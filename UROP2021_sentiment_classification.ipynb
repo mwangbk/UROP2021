{
  "nbformat": 4,
  "nbformat_minor": 5,
  "metadata": {
    "accelerator": "GPU",
    "colab": {
      "name": "UROP2021_sentiment_classification",
      "provenance": [],
      "collapsed_sections": [],
      "toc_visible": true
    },
    "kernelspec": {
      "display_name": "Python 3",
      "language": "python",
      "name": "python3"
    },
    "language_info": {
      "codemirror_mode": {
        "name": "ipython",
        "version": 3
      },
      "file_extension": ".py",
      "mimetype": "text/x-python",
      "name": "python",
      "nbconvert_exporter": "python",
      "pygments_lexer": "ipython3",
      "version": "3.8.7"
    },
    "toc": {
      "base_numbering": 1,
      "nav_menu": {},
      "number_sections": false,
      "sideBar": false,
      "skip_h1_title": false,
      "title_cell": "Table of Contents",
      "title_sidebar": "Contents",
      "toc_cell": false,
      "toc_position": {},
      "toc_section_display": false,
      "toc_window_display": false
    },
    "varInspector": {
      "cols": {
        "lenName": 16,
        "lenType": 16,
        "lenVar": 40
      },
      "kernels_config": {
        "python": {
          "delete_cmd_postfix": "",
          "delete_cmd_prefix": "del ",
          "library": "var_list.py",
          "varRefreshCmd": "print(var_dic_list())"
        },
        "r": {
          "delete_cmd_postfix": ") ",
          "delete_cmd_prefix": "rm(",
          "library": "var_list.r",
          "varRefreshCmd": "cat(var_dic_list()) "
        }
      },
      "types_to_exclude": [
        "module",
        "function",
        "builtin_function_or_method",
        "instance",
        "_Feature"
      ],
      "window_display": false
    },
    "widgets": {
      "application/vnd.jupyter.widget-state+json": {
        "2f9533a3b19b454e9bcee4c956f90808": {
          "model_module": "@jupyter-widgets/controls",
          "model_name": "HBoxModel",
          "model_module_version": "1.5.0",
          "state": {
            "_view_name": "HBoxView",
            "_dom_classes": [],
            "_model_name": "HBoxModel",
            "_view_module": "@jupyter-widgets/controls",
            "_model_module_version": "1.5.0",
            "_view_count": null,
            "_view_module_version": "1.5.0",
            "box_style": "",
            "layout": "IPY_MODEL_17406bca797c486685dc7cb609f808d5",
            "_model_module": "@jupyter-widgets/controls",
            "children": [
              "IPY_MODEL_7a30410701a043598dae0275eeee40b2",
              "IPY_MODEL_352025c619ec490384554de537bd7ae9",
              "IPY_MODEL_aaca9bc156cc44adb754c8249d8a5e0c"
            ]
          }
        },
        "17406bca797c486685dc7cb609f808d5": {
          "model_module": "@jupyter-widgets/base",
          "model_name": "LayoutModel",
          "model_module_version": "1.2.0",
          "state": {
            "_view_name": "LayoutView",
            "grid_template_rows": null,
            "right": null,
            "justify_content": null,
            "_view_module": "@jupyter-widgets/base",
            "overflow": null,
            "_model_module_version": "1.2.0",
            "_view_count": null,
            "flex_flow": null,
            "width": null,
            "min_width": null,
            "border": null,
            "align_items": null,
            "bottom": null,
            "_model_module": "@jupyter-widgets/base",
            "top": null,
            "grid_column": null,
            "overflow_y": null,
            "overflow_x": null,
            "grid_auto_flow": null,
            "grid_area": null,
            "grid_template_columns": null,
            "flex": null,
            "_model_name": "LayoutModel",
            "justify_items": null,
            "grid_row": null,
            "max_height": null,
            "align_content": null,
            "visibility": null,
            "align_self": null,
            "height": null,
            "min_height": null,
            "padding": null,
            "grid_auto_rows": null,
            "grid_gap": null,
            "max_width": null,
            "order": null,
            "_view_module_version": "1.2.0",
            "grid_template_areas": null,
            "object_position": null,
            "object_fit": null,
            "grid_auto_columns": null,
            "margin": null,
            "display": null,
            "left": null
          }
        },
        "7a30410701a043598dae0275eeee40b2": {
          "model_module": "@jupyter-widgets/controls",
          "model_name": "HTMLModel",
          "model_module_version": "1.5.0",
          "state": {
            "_view_name": "HTMLView",
            "style": "IPY_MODEL_323a22af77974c9280d9186b2b3f423d",
            "_dom_classes": [],
            "description": "",
            "_model_name": "HTMLModel",
            "placeholder": "​",
            "_view_module": "@jupyter-widgets/controls",
            "_model_module_version": "1.5.0",
            "value": "Downloading: 100%",
            "_view_count": null,
            "_view_module_version": "1.5.0",
            "description_tooltip": null,
            "_model_module": "@jupyter-widgets/controls",
            "layout": "IPY_MODEL_e08f62b127f746c396c6d2cb523f9f3e"
          }
        },
        "352025c619ec490384554de537bd7ae9": {
          "model_module": "@jupyter-widgets/controls",
          "model_name": "FloatProgressModel",
          "model_module_version": "1.5.0",
          "state": {
            "_view_name": "ProgressView",
            "style": "IPY_MODEL_7487df1fc00c4343b9673c2ba9403922",
            "_dom_classes": [],
            "description": "",
            "_model_name": "FloatProgressModel",
            "bar_style": "success",
            "max": 109540,
            "_view_module": "@jupyter-widgets/controls",
            "_model_module_version": "1.5.0",
            "value": 109540,
            "_view_count": null,
            "_view_module_version": "1.5.0",
            "orientation": "horizontal",
            "min": 0,
            "description_tooltip": null,
            "_model_module": "@jupyter-widgets/controls",
            "layout": "IPY_MODEL_811ef7b6f1284c0a8267459da8e65014"
          }
        },
        "aaca9bc156cc44adb754c8249d8a5e0c": {
          "model_module": "@jupyter-widgets/controls",
          "model_name": "HTMLModel",
          "model_module_version": "1.5.0",
          "state": {
            "_view_name": "HTMLView",
            "style": "IPY_MODEL_deb73badce0c4ba9bb2277e3ab8e5f07",
            "_dom_classes": [],
            "description": "",
            "_model_name": "HTMLModel",
            "placeholder": "​",
            "_view_module": "@jupyter-widgets/controls",
            "_model_module_version": "1.5.0",
            "value": " 110k/110k [00:00&lt;00:00, 548kB/s]",
            "_view_count": null,
            "_view_module_version": "1.5.0",
            "description_tooltip": null,
            "_model_module": "@jupyter-widgets/controls",
            "layout": "IPY_MODEL_5e33381805f14cab9296b33a0aacf3a6"
          }
        },
        "323a22af77974c9280d9186b2b3f423d": {
          "model_module": "@jupyter-widgets/controls",
          "model_name": "DescriptionStyleModel",
          "model_module_version": "1.5.0",
          "state": {
            "_view_name": "StyleView",
            "_model_name": "DescriptionStyleModel",
            "description_width": "",
            "_view_module": "@jupyter-widgets/base",
            "_model_module_version": "1.5.0",
            "_view_count": null,
            "_view_module_version": "1.2.0",
            "_model_module": "@jupyter-widgets/controls"
          }
        },
        "e08f62b127f746c396c6d2cb523f9f3e": {
          "model_module": "@jupyter-widgets/base",
          "model_name": "LayoutModel",
          "model_module_version": "1.2.0",
          "state": {
            "_view_name": "LayoutView",
            "grid_template_rows": null,
            "right": null,
            "justify_content": null,
            "_view_module": "@jupyter-widgets/base",
            "overflow": null,
            "_model_module_version": "1.2.0",
            "_view_count": null,
            "flex_flow": null,
            "width": null,
            "min_width": null,
            "border": null,
            "align_items": null,
            "bottom": null,
            "_model_module": "@jupyter-widgets/base",
            "top": null,
            "grid_column": null,
            "overflow_y": null,
            "overflow_x": null,
            "grid_auto_flow": null,
            "grid_area": null,
            "grid_template_columns": null,
            "flex": null,
            "_model_name": "LayoutModel",
            "justify_items": null,
            "grid_row": null,
            "max_height": null,
            "align_content": null,
            "visibility": null,
            "align_self": null,
            "height": null,
            "min_height": null,
            "padding": null,
            "grid_auto_rows": null,
            "grid_gap": null,
            "max_width": null,
            "order": null,
            "_view_module_version": "1.2.0",
            "grid_template_areas": null,
            "object_position": null,
            "object_fit": null,
            "grid_auto_columns": null,
            "margin": null,
            "display": null,
            "left": null
          }
        },
        "7487df1fc00c4343b9673c2ba9403922": {
          "model_module": "@jupyter-widgets/controls",
          "model_name": "ProgressStyleModel",
          "model_module_version": "1.5.0",
          "state": {
            "_view_name": "StyleView",
            "_model_name": "ProgressStyleModel",
            "description_width": "",
            "_view_module": "@jupyter-widgets/base",
            "_model_module_version": "1.5.0",
            "_view_count": null,
            "_view_module_version": "1.2.0",
            "bar_color": null,
            "_model_module": "@jupyter-widgets/controls"
          }
        },
        "811ef7b6f1284c0a8267459da8e65014": {
          "model_module": "@jupyter-widgets/base",
          "model_name": "LayoutModel",
          "model_module_version": "1.2.0",
          "state": {
            "_view_name": "LayoutView",
            "grid_template_rows": null,
            "right": null,
            "justify_content": null,
            "_view_module": "@jupyter-widgets/base",
            "overflow": null,
            "_model_module_version": "1.2.0",
            "_view_count": null,
            "flex_flow": null,
            "width": null,
            "min_width": null,
            "border": null,
            "align_items": null,
            "bottom": null,
            "_model_module": "@jupyter-widgets/base",
            "top": null,
            "grid_column": null,
            "overflow_y": null,
            "overflow_x": null,
            "grid_auto_flow": null,
            "grid_area": null,
            "grid_template_columns": null,
            "flex": null,
            "_model_name": "LayoutModel",
            "justify_items": null,
            "grid_row": null,
            "max_height": null,
            "align_content": null,
            "visibility": null,
            "align_self": null,
            "height": null,
            "min_height": null,
            "padding": null,
            "grid_auto_rows": null,
            "grid_gap": null,
            "max_width": null,
            "order": null,
            "_view_module_version": "1.2.0",
            "grid_template_areas": null,
            "object_position": null,
            "object_fit": null,
            "grid_auto_columns": null,
            "margin": null,
            "display": null,
            "left": null
          }
        },
        "deb73badce0c4ba9bb2277e3ab8e5f07": {
          "model_module": "@jupyter-widgets/controls",
          "model_name": "DescriptionStyleModel",
          "model_module_version": "1.5.0",
          "state": {
            "_view_name": "StyleView",
            "_model_name": "DescriptionStyleModel",
            "description_width": "",
            "_view_module": "@jupyter-widgets/base",
            "_model_module_version": "1.5.0",
            "_view_count": null,
            "_view_module_version": "1.2.0",
            "_model_module": "@jupyter-widgets/controls"
          }
        },
        "5e33381805f14cab9296b33a0aacf3a6": {
          "model_module": "@jupyter-widgets/base",
          "model_name": "LayoutModel",
          "model_module_version": "1.2.0",
          "state": {
            "_view_name": "LayoutView",
            "grid_template_rows": null,
            "right": null,
            "justify_content": null,
            "_view_module": "@jupyter-widgets/base",
            "overflow": null,
            "_model_module_version": "1.2.0",
            "_view_count": null,
            "flex_flow": null,
            "width": null,
            "min_width": null,
            "border": null,
            "align_items": null,
            "bottom": null,
            "_model_module": "@jupyter-widgets/base",
            "top": null,
            "grid_column": null,
            "overflow_y": null,
            "overflow_x": null,
            "grid_auto_flow": null,
            "grid_area": null,
            "grid_template_columns": null,
            "flex": null,
            "_model_name": "LayoutModel",
            "justify_items": null,
            "grid_row": null,
            "max_height": null,
            "align_content": null,
            "visibility": null,
            "align_self": null,
            "height": null,
            "min_height": null,
            "padding": null,
            "grid_auto_rows": null,
            "grid_gap": null,
            "max_width": null,
            "order": null,
            "_view_module_version": "1.2.0",
            "grid_template_areas": null,
            "object_position": null,
            "object_fit": null,
            "grid_auto_columns": null,
            "margin": null,
            "display": null,
            "left": null
          }
        },
        "6b6436ba713b40feb4745ad7d21e355d": {
          "model_module": "@jupyter-widgets/controls",
          "model_name": "HBoxModel",
          "model_module_version": "1.5.0",
          "state": {
            "_view_name": "HBoxView",
            "_dom_classes": [],
            "_model_name": "HBoxModel",
            "_view_module": "@jupyter-widgets/controls",
            "_model_module_version": "1.5.0",
            "_view_count": null,
            "_view_module_version": "1.5.0",
            "box_style": "",
            "layout": "IPY_MODEL_e15cf8b07ef047b68b0c5bbf34f67401",
            "_model_module": "@jupyter-widgets/controls",
            "children": [
              "IPY_MODEL_63eac1702282457aac563c0fa15adfe0",
              "IPY_MODEL_ae60e69ec6184191b334058500992629",
              "IPY_MODEL_825f436b16c04711841a78bc1395cafd"
            ]
          }
        },
        "e15cf8b07ef047b68b0c5bbf34f67401": {
          "model_module": "@jupyter-widgets/base",
          "model_name": "LayoutModel",
          "model_module_version": "1.2.0",
          "state": {
            "_view_name": "LayoutView",
            "grid_template_rows": null,
            "right": null,
            "justify_content": null,
            "_view_module": "@jupyter-widgets/base",
            "overflow": null,
            "_model_module_version": "1.2.0",
            "_view_count": null,
            "flex_flow": null,
            "width": null,
            "min_width": null,
            "border": null,
            "align_items": null,
            "bottom": null,
            "_model_module": "@jupyter-widgets/base",
            "top": null,
            "grid_column": null,
            "overflow_y": null,
            "overflow_x": null,
            "grid_auto_flow": null,
            "grid_area": null,
            "grid_template_columns": null,
            "flex": null,
            "_model_name": "LayoutModel",
            "justify_items": null,
            "grid_row": null,
            "max_height": null,
            "align_content": null,
            "visibility": null,
            "align_self": null,
            "height": null,
            "min_height": null,
            "padding": null,
            "grid_auto_rows": null,
            "grid_gap": null,
            "max_width": null,
            "order": null,
            "_view_module_version": "1.2.0",
            "grid_template_areas": null,
            "object_position": null,
            "object_fit": null,
            "grid_auto_columns": null,
            "margin": null,
            "display": null,
            "left": null
          }
        },
        "63eac1702282457aac563c0fa15adfe0": {
          "model_module": "@jupyter-widgets/controls",
          "model_name": "HTMLModel",
          "model_module_version": "1.5.0",
          "state": {
            "_view_name": "HTMLView",
            "style": "IPY_MODEL_2aae408ec009450f8ef60932e825857f",
            "_dom_classes": [],
            "description": "",
            "_model_name": "HTMLModel",
            "placeholder": "​",
            "_view_module": "@jupyter-widgets/controls",
            "_model_module_version": "1.5.0",
            "value": "Downloading: 100%",
            "_view_count": null,
            "_view_module_version": "1.5.0",
            "description_tooltip": null,
            "_model_module": "@jupyter-widgets/controls",
            "layout": "IPY_MODEL_733e7854cd2a4a029152095170b2e371"
          }
        },
        "ae60e69ec6184191b334058500992629": {
          "model_module": "@jupyter-widgets/controls",
          "model_name": "FloatProgressModel",
          "model_module_version": "1.5.0",
          "state": {
            "_view_name": "ProgressView",
            "style": "IPY_MODEL_edc05d4ea403493ba0e08b9d197fda4b",
            "_dom_classes": [],
            "description": "",
            "_model_name": "FloatProgressModel",
            "bar_style": "success",
            "max": 29,
            "_view_module": "@jupyter-widgets/controls",
            "_model_module_version": "1.5.0",
            "value": 29,
            "_view_count": null,
            "_view_module_version": "1.5.0",
            "orientation": "horizontal",
            "min": 0,
            "description_tooltip": null,
            "_model_module": "@jupyter-widgets/controls",
            "layout": "IPY_MODEL_45b112baed0a4f5eaac46a92fde97777"
          }
        },
        "825f436b16c04711841a78bc1395cafd": {
          "model_module": "@jupyter-widgets/controls",
          "model_name": "HTMLModel",
          "model_module_version": "1.5.0",
          "state": {
            "_view_name": "HTMLView",
            "style": "IPY_MODEL_873ad8e834594d01973233cb485c2081",
            "_dom_classes": [],
            "description": "",
            "_model_name": "HTMLModel",
            "placeholder": "​",
            "_view_module": "@jupyter-widgets/controls",
            "_model_module_version": "1.5.0",
            "value": " 29.0/29.0 [00:00&lt;00:00, 700B/s]",
            "_view_count": null,
            "_view_module_version": "1.5.0",
            "description_tooltip": null,
            "_model_module": "@jupyter-widgets/controls",
            "layout": "IPY_MODEL_2fc3a629729145879904274b3ca663c1"
          }
        },
        "2aae408ec009450f8ef60932e825857f": {
          "model_module": "@jupyter-widgets/controls",
          "model_name": "DescriptionStyleModel",
          "model_module_version": "1.5.0",
          "state": {
            "_view_name": "StyleView",
            "_model_name": "DescriptionStyleModel",
            "description_width": "",
            "_view_module": "@jupyter-widgets/base",
            "_model_module_version": "1.5.0",
            "_view_count": null,
            "_view_module_version": "1.2.0",
            "_model_module": "@jupyter-widgets/controls"
          }
        },
        "733e7854cd2a4a029152095170b2e371": {
          "model_module": "@jupyter-widgets/base",
          "model_name": "LayoutModel",
          "model_module_version": "1.2.0",
          "state": {
            "_view_name": "LayoutView",
            "grid_template_rows": null,
            "right": null,
            "justify_content": null,
            "_view_module": "@jupyter-widgets/base",
            "overflow": null,
            "_model_module_version": "1.2.0",
            "_view_count": null,
            "flex_flow": null,
            "width": null,
            "min_width": null,
            "border": null,
            "align_items": null,
            "bottom": null,
            "_model_module": "@jupyter-widgets/base",
            "top": null,
            "grid_column": null,
            "overflow_y": null,
            "overflow_x": null,
            "grid_auto_flow": null,
            "grid_area": null,
            "grid_template_columns": null,
            "flex": null,
            "_model_name": "LayoutModel",
            "justify_items": null,
            "grid_row": null,
            "max_height": null,
            "align_content": null,
            "visibility": null,
            "align_self": null,
            "height": null,
            "min_height": null,
            "padding": null,
            "grid_auto_rows": null,
            "grid_gap": null,
            "max_width": null,
            "order": null,
            "_view_module_version": "1.2.0",
            "grid_template_areas": null,
            "object_position": null,
            "object_fit": null,
            "grid_auto_columns": null,
            "margin": null,
            "display": null,
            "left": null
          }
        },
        "edc05d4ea403493ba0e08b9d197fda4b": {
          "model_module": "@jupyter-widgets/controls",
          "model_name": "ProgressStyleModel",
          "model_module_version": "1.5.0",
          "state": {
            "_view_name": "StyleView",
            "_model_name": "ProgressStyleModel",
            "description_width": "",
            "_view_module": "@jupyter-widgets/base",
            "_model_module_version": "1.5.0",
            "_view_count": null,
            "_view_module_version": "1.2.0",
            "bar_color": null,
            "_model_module": "@jupyter-widgets/controls"
          }
        },
        "45b112baed0a4f5eaac46a92fde97777": {
          "model_module": "@jupyter-widgets/base",
          "model_name": "LayoutModel",
          "model_module_version": "1.2.0",
          "state": {
            "_view_name": "LayoutView",
            "grid_template_rows": null,
            "right": null,
            "justify_content": null,
            "_view_module": "@jupyter-widgets/base",
            "overflow": null,
            "_model_module_version": "1.2.0",
            "_view_count": null,
            "flex_flow": null,
            "width": null,
            "min_width": null,
            "border": null,
            "align_items": null,
            "bottom": null,
            "_model_module": "@jupyter-widgets/base",
            "top": null,
            "grid_column": null,
            "overflow_y": null,
            "overflow_x": null,
            "grid_auto_flow": null,
            "grid_area": null,
            "grid_template_columns": null,
            "flex": null,
            "_model_name": "LayoutModel",
            "justify_items": null,
            "grid_row": null,
            "max_height": null,
            "align_content": null,
            "visibility": null,
            "align_self": null,
            "height": null,
            "min_height": null,
            "padding": null,
            "grid_auto_rows": null,
            "grid_gap": null,
            "max_width": null,
            "order": null,
            "_view_module_version": "1.2.0",
            "grid_template_areas": null,
            "object_position": null,
            "object_fit": null,
            "grid_auto_columns": null,
            "margin": null,
            "display": null,
            "left": null
          }
        },
        "873ad8e834594d01973233cb485c2081": {
          "model_module": "@jupyter-widgets/controls",
          "model_name": "DescriptionStyleModel",
          "model_module_version": "1.5.0",
          "state": {
            "_view_name": "StyleView",
            "_model_name": "DescriptionStyleModel",
            "description_width": "",
            "_view_module": "@jupyter-widgets/base",
            "_model_module_version": "1.5.0",
            "_view_count": null,
            "_view_module_version": "1.2.0",
            "_model_module": "@jupyter-widgets/controls"
          }
        },
        "2fc3a629729145879904274b3ca663c1": {
          "model_module": "@jupyter-widgets/base",
          "model_name": "LayoutModel",
          "model_module_version": "1.2.0",
          "state": {
            "_view_name": "LayoutView",
            "grid_template_rows": null,
            "right": null,
            "justify_content": null,
            "_view_module": "@jupyter-widgets/base",
            "overflow": null,
            "_model_module_version": "1.2.0",
            "_view_count": null,
            "flex_flow": null,
            "width": null,
            "min_width": null,
            "border": null,
            "align_items": null,
            "bottom": null,
            "_model_module": "@jupyter-widgets/base",
            "top": null,
            "grid_column": null,
            "overflow_y": null,
            "overflow_x": null,
            "grid_auto_flow": null,
            "grid_area": null,
            "grid_template_columns": null,
            "flex": null,
            "_model_name": "LayoutModel",
            "justify_items": null,
            "grid_row": null,
            "max_height": null,
            "align_content": null,
            "visibility": null,
            "align_self": null,
            "height": null,
            "min_height": null,
            "padding": null,
            "grid_auto_rows": null,
            "grid_gap": null,
            "max_width": null,
            "order": null,
            "_view_module_version": "1.2.0",
            "grid_template_areas": null,
            "object_position": null,
            "object_fit": null,
            "grid_auto_columns": null,
            "margin": null,
            "display": null,
            "left": null
          }
        },
        "c1b947f0448f49b1bf067e8e85fda073": {
          "model_module": "@jupyter-widgets/controls",
          "model_name": "HBoxModel",
          "model_module_version": "1.5.0",
          "state": {
            "_view_name": "HBoxView",
            "_dom_classes": [],
            "_model_name": "HBoxModel",
            "_view_module": "@jupyter-widgets/controls",
            "_model_module_version": "1.5.0",
            "_view_count": null,
            "_view_module_version": "1.5.0",
            "box_style": "",
            "layout": "IPY_MODEL_7ba9a06be2a0450dbe3656eab7e8387e",
            "_model_module": "@jupyter-widgets/controls",
            "children": [
              "IPY_MODEL_fd7fe0b09bcc4a48a96c4844d1c95f40",
              "IPY_MODEL_edb7907ee4094699a34a75c6dfc5a05c",
              "IPY_MODEL_88eb7fce400146e5a9eb12791c791666"
            ]
          }
        },
        "7ba9a06be2a0450dbe3656eab7e8387e": {
          "model_module": "@jupyter-widgets/base",
          "model_name": "LayoutModel",
          "model_module_version": "1.2.0",
          "state": {
            "_view_name": "LayoutView",
            "grid_template_rows": null,
            "right": null,
            "justify_content": null,
            "_view_module": "@jupyter-widgets/base",
            "overflow": null,
            "_model_module_version": "1.2.0",
            "_view_count": null,
            "flex_flow": null,
            "width": null,
            "min_width": null,
            "border": null,
            "align_items": null,
            "bottom": null,
            "_model_module": "@jupyter-widgets/base",
            "top": null,
            "grid_column": null,
            "overflow_y": null,
            "overflow_x": null,
            "grid_auto_flow": null,
            "grid_area": null,
            "grid_template_columns": null,
            "flex": null,
            "_model_name": "LayoutModel",
            "justify_items": null,
            "grid_row": null,
            "max_height": null,
            "align_content": null,
            "visibility": null,
            "align_self": null,
            "height": null,
            "min_height": null,
            "padding": null,
            "grid_auto_rows": null,
            "grid_gap": null,
            "max_width": null,
            "order": null,
            "_view_module_version": "1.2.0",
            "grid_template_areas": null,
            "object_position": null,
            "object_fit": null,
            "grid_auto_columns": null,
            "margin": null,
            "display": null,
            "left": null
          }
        },
        "fd7fe0b09bcc4a48a96c4844d1c95f40": {
          "model_module": "@jupyter-widgets/controls",
          "model_name": "HTMLModel",
          "model_module_version": "1.5.0",
          "state": {
            "_view_name": "HTMLView",
            "style": "IPY_MODEL_1ad67da0516b4fec911c1f04512b8815",
            "_dom_classes": [],
            "description": "",
            "_model_name": "HTMLModel",
            "placeholder": "​",
            "_view_module": "@jupyter-widgets/controls",
            "_model_module_version": "1.5.0",
            "value": "Downloading: 100%",
            "_view_count": null,
            "_view_module_version": "1.5.0",
            "description_tooltip": null,
            "_model_module": "@jupyter-widgets/controls",
            "layout": "IPY_MODEL_43a552a37c4742d7b47a6e9bf4e55e59"
          }
        },
        "edb7907ee4094699a34a75c6dfc5a05c": {
          "model_module": "@jupyter-widgets/controls",
          "model_name": "FloatProgressModel",
          "model_module_version": "1.5.0",
          "state": {
            "_view_name": "ProgressView",
            "style": "IPY_MODEL_22e306cf36944645a1a46c251c4ba3a6",
            "_dom_classes": [],
            "description": "",
            "_model_name": "FloatProgressModel",
            "bar_style": "success",
            "max": 268943,
            "_view_module": "@jupyter-widgets/controls",
            "_model_module_version": "1.5.0",
            "value": 268943,
            "_view_count": null,
            "_view_module_version": "1.5.0",
            "orientation": "horizontal",
            "min": 0,
            "description_tooltip": null,
            "_model_module": "@jupyter-widgets/controls",
            "layout": "IPY_MODEL_df0db3ab43dc4f2489a2c82cdb40f03a"
          }
        },
        "88eb7fce400146e5a9eb12791c791666": {
          "model_module": "@jupyter-widgets/controls",
          "model_name": "HTMLModel",
          "model_module_version": "1.5.0",
          "state": {
            "_view_name": "HTMLView",
            "style": "IPY_MODEL_eda59eccf1434fe289eb8df38e045afe",
            "_dom_classes": [],
            "description": "",
            "_model_name": "HTMLModel",
            "placeholder": "​",
            "_view_module": "@jupyter-widgets/controls",
            "_model_module_version": "1.5.0",
            "value": " 269k/269k [00:00&lt;00:00, 1.08MB/s]",
            "_view_count": null,
            "_view_module_version": "1.5.0",
            "description_tooltip": null,
            "_model_module": "@jupyter-widgets/controls",
            "layout": "IPY_MODEL_b4f4c80f50584a25b729bdb4efd43ab7"
          }
        },
        "1ad67da0516b4fec911c1f04512b8815": {
          "model_module": "@jupyter-widgets/controls",
          "model_name": "DescriptionStyleModel",
          "model_module_version": "1.5.0",
          "state": {
            "_view_name": "StyleView",
            "_model_name": "DescriptionStyleModel",
            "description_width": "",
            "_view_module": "@jupyter-widgets/base",
            "_model_module_version": "1.5.0",
            "_view_count": null,
            "_view_module_version": "1.2.0",
            "_model_module": "@jupyter-widgets/controls"
          }
        },
        "43a552a37c4742d7b47a6e9bf4e55e59": {
          "model_module": "@jupyter-widgets/base",
          "model_name": "LayoutModel",
          "model_module_version": "1.2.0",
          "state": {
            "_view_name": "LayoutView",
            "grid_template_rows": null,
            "right": null,
            "justify_content": null,
            "_view_module": "@jupyter-widgets/base",
            "overflow": null,
            "_model_module_version": "1.2.0",
            "_view_count": null,
            "flex_flow": null,
            "width": null,
            "min_width": null,
            "border": null,
            "align_items": null,
            "bottom": null,
            "_model_module": "@jupyter-widgets/base",
            "top": null,
            "grid_column": null,
            "overflow_y": null,
            "overflow_x": null,
            "grid_auto_flow": null,
            "grid_area": null,
            "grid_template_columns": null,
            "flex": null,
            "_model_name": "LayoutModel",
            "justify_items": null,
            "grid_row": null,
            "max_height": null,
            "align_content": null,
            "visibility": null,
            "align_self": null,
            "height": null,
            "min_height": null,
            "padding": null,
            "grid_auto_rows": null,
            "grid_gap": null,
            "max_width": null,
            "order": null,
            "_view_module_version": "1.2.0",
            "grid_template_areas": null,
            "object_position": null,
            "object_fit": null,
            "grid_auto_columns": null,
            "margin": null,
            "display": null,
            "left": null
          }
        },
        "22e306cf36944645a1a46c251c4ba3a6": {
          "model_module": "@jupyter-widgets/controls",
          "model_name": "ProgressStyleModel",
          "model_module_version": "1.5.0",
          "state": {
            "_view_name": "StyleView",
            "_model_name": "ProgressStyleModel",
            "description_width": "",
            "_view_module": "@jupyter-widgets/base",
            "_model_module_version": "1.5.0",
            "_view_count": null,
            "_view_module_version": "1.2.0",
            "bar_color": null,
            "_model_module": "@jupyter-widgets/controls"
          }
        },
        "df0db3ab43dc4f2489a2c82cdb40f03a": {
          "model_module": "@jupyter-widgets/base",
          "model_name": "LayoutModel",
          "model_module_version": "1.2.0",
          "state": {
            "_view_name": "LayoutView",
            "grid_template_rows": null,
            "right": null,
            "justify_content": null,
            "_view_module": "@jupyter-widgets/base",
            "overflow": null,
            "_model_module_version": "1.2.0",
            "_view_count": null,
            "flex_flow": null,
            "width": null,
            "min_width": null,
            "border": null,
            "align_items": null,
            "bottom": null,
            "_model_module": "@jupyter-widgets/base",
            "top": null,
            "grid_column": null,
            "overflow_y": null,
            "overflow_x": null,
            "grid_auto_flow": null,
            "grid_area": null,
            "grid_template_columns": null,
            "flex": null,
            "_model_name": "LayoutModel",
            "justify_items": null,
            "grid_row": null,
            "max_height": null,
            "align_content": null,
            "visibility": null,
            "align_self": null,
            "height": null,
            "min_height": null,
            "padding": null,
            "grid_auto_rows": null,
            "grid_gap": null,
            "max_width": null,
            "order": null,
            "_view_module_version": "1.2.0",
            "grid_template_areas": null,
            "object_position": null,
            "object_fit": null,
            "grid_auto_columns": null,
            "margin": null,
            "display": null,
            "left": null
          }
        },
        "eda59eccf1434fe289eb8df38e045afe": {
          "model_module": "@jupyter-widgets/controls",
          "model_name": "DescriptionStyleModel",
          "model_module_version": "1.5.0",
          "state": {
            "_view_name": "StyleView",
            "_model_name": "DescriptionStyleModel",
            "description_width": "",
            "_view_module": "@jupyter-widgets/base",
            "_model_module_version": "1.5.0",
            "_view_count": null,
            "_view_module_version": "1.2.0",
            "_model_module": "@jupyter-widgets/controls"
          }
        },
        "b4f4c80f50584a25b729bdb4efd43ab7": {
          "model_module": "@jupyter-widgets/base",
          "model_name": "LayoutModel",
          "model_module_version": "1.2.0",
          "state": {
            "_view_name": "LayoutView",
            "grid_template_rows": null,
            "right": null,
            "justify_content": null,
            "_view_module": "@jupyter-widgets/base",
            "overflow": null,
            "_model_module_version": "1.2.0",
            "_view_count": null,
            "flex_flow": null,
            "width": null,
            "min_width": null,
            "border": null,
            "align_items": null,
            "bottom": null,
            "_model_module": "@jupyter-widgets/base",
            "top": null,
            "grid_column": null,
            "overflow_y": null,
            "overflow_x": null,
            "grid_auto_flow": null,
            "grid_area": null,
            "grid_template_columns": null,
            "flex": null,
            "_model_name": "LayoutModel",
            "justify_items": null,
            "grid_row": null,
            "max_height": null,
            "align_content": null,
            "visibility": null,
            "align_self": null,
            "height": null,
            "min_height": null,
            "padding": null,
            "grid_auto_rows": null,
            "grid_gap": null,
            "max_width": null,
            "order": null,
            "_view_module_version": "1.2.0",
            "grid_template_areas": null,
            "object_position": null,
            "object_fit": null,
            "grid_auto_columns": null,
            "margin": null,
            "display": null,
            "left": null
          }
        },
        "11d8f6addf3b4e4da2103d6595b712e6": {
          "model_module": "@jupyter-widgets/controls",
          "model_name": "HBoxModel",
          "model_module_version": "1.5.0",
          "state": {
            "_view_name": "HBoxView",
            "_dom_classes": [],
            "_model_name": "HBoxModel",
            "_view_module": "@jupyter-widgets/controls",
            "_model_module_version": "1.5.0",
            "_view_count": null,
            "_view_module_version": "1.5.0",
            "box_style": "",
            "layout": "IPY_MODEL_967f34f9dffc4d7ca3046f8a215a9567",
            "_model_module": "@jupyter-widgets/controls",
            "children": [
              "IPY_MODEL_ac691adc75d044f9b3362fe5cd41a522",
              "IPY_MODEL_110a48815d2d422dbbb9ea89588a6d3b",
              "IPY_MODEL_1a785bc3a036425c8d58cf933e5863cc"
            ]
          }
        },
        "967f34f9dffc4d7ca3046f8a215a9567": {
          "model_module": "@jupyter-widgets/base",
          "model_name": "LayoutModel",
          "model_module_version": "1.2.0",
          "state": {
            "_view_name": "LayoutView",
            "grid_template_rows": null,
            "right": null,
            "justify_content": null,
            "_view_module": "@jupyter-widgets/base",
            "overflow": null,
            "_model_module_version": "1.2.0",
            "_view_count": null,
            "flex_flow": null,
            "width": null,
            "min_width": null,
            "border": null,
            "align_items": null,
            "bottom": null,
            "_model_module": "@jupyter-widgets/base",
            "top": null,
            "grid_column": null,
            "overflow_y": null,
            "overflow_x": null,
            "grid_auto_flow": null,
            "grid_area": null,
            "grid_template_columns": null,
            "flex": null,
            "_model_name": "LayoutModel",
            "justify_items": null,
            "grid_row": null,
            "max_height": null,
            "align_content": null,
            "visibility": null,
            "align_self": null,
            "height": null,
            "min_height": null,
            "padding": null,
            "grid_auto_rows": null,
            "grid_gap": null,
            "max_width": null,
            "order": null,
            "_view_module_version": "1.2.0",
            "grid_template_areas": null,
            "object_position": null,
            "object_fit": null,
            "grid_auto_columns": null,
            "margin": null,
            "display": null,
            "left": null
          }
        },
        "ac691adc75d044f9b3362fe5cd41a522": {
          "model_module": "@jupyter-widgets/controls",
          "model_name": "HTMLModel",
          "model_module_version": "1.5.0",
          "state": {
            "_view_name": "HTMLView",
            "style": "IPY_MODEL_5271c02905e84abd8515e42514e9012f",
            "_dom_classes": [],
            "description": "",
            "_model_name": "HTMLModel",
            "placeholder": "​",
            "_view_module": "@jupyter-widgets/controls",
            "_model_module_version": "1.5.0",
            "value": "Downloading: 100%",
            "_view_count": null,
            "_view_module_version": "1.5.0",
            "description_tooltip": null,
            "_model_module": "@jupyter-widgets/controls",
            "layout": "IPY_MODEL_b61cab81f0ed4a21a701bf9d0a48220a"
          }
        },
        "110a48815d2d422dbbb9ea89588a6d3b": {
          "model_module": "@jupyter-widgets/controls",
          "model_name": "FloatProgressModel",
          "model_module_version": "1.5.0",
          "state": {
            "_view_name": "ProgressView",
            "style": "IPY_MODEL_5a42aa904dc84489b1de14b932fa5079",
            "_dom_classes": [],
            "description": "",
            "_model_name": "FloatProgressModel",
            "bar_style": "success",
            "max": 624,
            "_view_module": "@jupyter-widgets/controls",
            "_model_module_version": "1.5.0",
            "value": 624,
            "_view_count": null,
            "_view_module_version": "1.5.0",
            "orientation": "horizontal",
            "min": 0,
            "description_tooltip": null,
            "_model_module": "@jupyter-widgets/controls",
            "layout": "IPY_MODEL_395e4bcb4bd3474fadc766d648208089"
          }
        },
        "1a785bc3a036425c8d58cf933e5863cc": {
          "model_module": "@jupyter-widgets/controls",
          "model_name": "HTMLModel",
          "model_module_version": "1.5.0",
          "state": {
            "_view_name": "HTMLView",
            "style": "IPY_MODEL_88429e84db7b459b9c4d87bc6d9187af",
            "_dom_classes": [],
            "description": "",
            "_model_name": "HTMLModel",
            "placeholder": "​",
            "_view_module": "@jupyter-widgets/controls",
            "_model_module_version": "1.5.0",
            "value": " 624/624 [00:00&lt;00:00, 15.0kB/s]",
            "_view_count": null,
            "_view_module_version": "1.5.0",
            "description_tooltip": null,
            "_model_module": "@jupyter-widgets/controls",
            "layout": "IPY_MODEL_87140d11b31847628d93cc59f0e5ed1f"
          }
        },
        "5271c02905e84abd8515e42514e9012f": {
          "model_module": "@jupyter-widgets/controls",
          "model_name": "DescriptionStyleModel",
          "model_module_version": "1.5.0",
          "state": {
            "_view_name": "StyleView",
            "_model_name": "DescriptionStyleModel",
            "description_width": "",
            "_view_module": "@jupyter-widgets/base",
            "_model_module_version": "1.5.0",
            "_view_count": null,
            "_view_module_version": "1.2.0",
            "_model_module": "@jupyter-widgets/controls"
          }
        },
        "b61cab81f0ed4a21a701bf9d0a48220a": {
          "model_module": "@jupyter-widgets/base",
          "model_name": "LayoutModel",
          "model_module_version": "1.2.0",
          "state": {
            "_view_name": "LayoutView",
            "grid_template_rows": null,
            "right": null,
            "justify_content": null,
            "_view_module": "@jupyter-widgets/base",
            "overflow": null,
            "_model_module_version": "1.2.0",
            "_view_count": null,
            "flex_flow": null,
            "width": null,
            "min_width": null,
            "border": null,
            "align_items": null,
            "bottom": null,
            "_model_module": "@jupyter-widgets/base",
            "top": null,
            "grid_column": null,
            "overflow_y": null,
            "overflow_x": null,
            "grid_auto_flow": null,
            "grid_area": null,
            "grid_template_columns": null,
            "flex": null,
            "_model_name": "LayoutModel",
            "justify_items": null,
            "grid_row": null,
            "max_height": null,
            "align_content": null,
            "visibility": null,
            "align_self": null,
            "height": null,
            "min_height": null,
            "padding": null,
            "grid_auto_rows": null,
            "grid_gap": null,
            "max_width": null,
            "order": null,
            "_view_module_version": "1.2.0",
            "grid_template_areas": null,
            "object_position": null,
            "object_fit": null,
            "grid_auto_columns": null,
            "margin": null,
            "display": null,
            "left": null
          }
        },
        "5a42aa904dc84489b1de14b932fa5079": {
          "model_module": "@jupyter-widgets/controls",
          "model_name": "ProgressStyleModel",
          "model_module_version": "1.5.0",
          "state": {
            "_view_name": "StyleView",
            "_model_name": "ProgressStyleModel",
            "description_width": "",
            "_view_module": "@jupyter-widgets/base",
            "_model_module_version": "1.5.0",
            "_view_count": null,
            "_view_module_version": "1.2.0",
            "bar_color": null,
            "_model_module": "@jupyter-widgets/controls"
          }
        },
        "395e4bcb4bd3474fadc766d648208089": {
          "model_module": "@jupyter-widgets/base",
          "model_name": "LayoutModel",
          "model_module_version": "1.2.0",
          "state": {
            "_view_name": "LayoutView",
            "grid_template_rows": null,
            "right": null,
            "justify_content": null,
            "_view_module": "@jupyter-widgets/base",
            "overflow": null,
            "_model_module_version": "1.2.0",
            "_view_count": null,
            "flex_flow": null,
            "width": null,
            "min_width": null,
            "border": null,
            "align_items": null,
            "bottom": null,
            "_model_module": "@jupyter-widgets/base",
            "top": null,
            "grid_column": null,
            "overflow_y": null,
            "overflow_x": null,
            "grid_auto_flow": null,
            "grid_area": null,
            "grid_template_columns": null,
            "flex": null,
            "_model_name": "LayoutModel",
            "justify_items": null,
            "grid_row": null,
            "max_height": null,
            "align_content": null,
            "visibility": null,
            "align_self": null,
            "height": null,
            "min_height": null,
            "padding": null,
            "grid_auto_rows": null,
            "grid_gap": null,
            "max_width": null,
            "order": null,
            "_view_module_version": "1.2.0",
            "grid_template_areas": null,
            "object_position": null,
            "object_fit": null,
            "grid_auto_columns": null,
            "margin": null,
            "display": null,
            "left": null
          }
        },
        "88429e84db7b459b9c4d87bc6d9187af": {
          "model_module": "@jupyter-widgets/controls",
          "model_name": "DescriptionStyleModel",
          "model_module_version": "1.5.0",
          "state": {
            "_view_name": "StyleView",
            "_model_name": "DescriptionStyleModel",
            "description_width": "",
            "_view_module": "@jupyter-widgets/base",
            "_model_module_version": "1.5.0",
            "_view_count": null,
            "_view_module_version": "1.2.0",
            "_model_module": "@jupyter-widgets/controls"
          }
        },
        "87140d11b31847628d93cc59f0e5ed1f": {
          "model_module": "@jupyter-widgets/base",
          "model_name": "LayoutModel",
          "model_module_version": "1.2.0",
          "state": {
            "_view_name": "LayoutView",
            "grid_template_rows": null,
            "right": null,
            "justify_content": null,
            "_view_module": "@jupyter-widgets/base",
            "overflow": null,
            "_model_module_version": "1.2.0",
            "_view_count": null,
            "flex_flow": null,
            "width": null,
            "min_width": null,
            "border": null,
            "align_items": null,
            "bottom": null,
            "_model_module": "@jupyter-widgets/base",
            "top": null,
            "grid_column": null,
            "overflow_y": null,
            "overflow_x": null,
            "grid_auto_flow": null,
            "grid_area": null,
            "grid_template_columns": null,
            "flex": null,
            "_model_name": "LayoutModel",
            "justify_items": null,
            "grid_row": null,
            "max_height": null,
            "align_content": null,
            "visibility": null,
            "align_self": null,
            "height": null,
            "min_height": null,
            "padding": null,
            "grid_auto_rows": null,
            "grid_gap": null,
            "max_width": null,
            "order": null,
            "_view_module_version": "1.2.0",
            "grid_template_areas": null,
            "object_position": null,
            "object_fit": null,
            "grid_auto_columns": null,
            "margin": null,
            "display": null,
            "left": null
          }
        }
      }
    }
  },
  "cells": [
    {
      "cell_type": "markdown",
      "metadata": {
        "id": "cW2Xtf-_6I9o"
      },
      "source": [
        "# Sentiment classification"
      ],
      "id": "cW2Xtf-_6I9o"
    },
    {
      "cell_type": "markdown",
      "metadata": {
        "id": "8TMm0Jai-zG4"
      },
      "source": [
        "## Preparation"
      ],
      "id": "8TMm0Jai-zG4"
    },
    {
      "cell_type": "markdown",
      "metadata": {
        "id": "Hux3PffU7OZ3"
      },
      "source": [
        "#### Load libraries"
      ],
      "id": "Hux3PffU7OZ3"
    },
    {
      "cell_type": "code",
      "metadata": {
        "colab": {
          "base_uri": "https://localhost:8080/"
        },
        "id": "wOZvPWO3UVFn",
        "outputId": "ffd5d17a-315a-43fc-a62d-741c5b152f7e"
      },
      "source": [
        "# connect to google drive for importing the finbert model \n",
        "from google.colab import drive\n",
        "drive.mount('/content/drive')"
      ],
      "id": "wOZvPWO3UVFn",
      "execution_count": 3,
      "outputs": [
        {
          "output_type": "stream",
          "text": [
            "Mounted at /content/drive\n"
          ],
          "name": "stdout"
        }
      ]
    },
    {
      "cell_type": "code",
      "metadata": {
        "id": "varied-rebate"
      },
      "source": [
        "import pandas as pd\n",
        "import numpy as np\n",
        "\n",
        "import random\n",
        "\n",
        "from collections import Counter\n",
        "\n",
        "# tf-idf\n",
        "from sklearn.feature_extraction.text import TfidfTransformer    \n",
        "from sklearn.feature_extraction.text import CountVectorizer\n",
        "\n",
        "from sklearn import metrics\n",
        "\n",
        "import torch\n",
        "from torch.nn.utils import clip_grad_norm_\n",
        "from torch.utils.data import TensorDataset, DataLoader, RandomSampler, SequentialSampler\n",
        "\n",
        "import matplotlib.pylab as plt \n",
        "\n",
        "from tqdm import tqdm"
      ],
      "id": "varied-rebate",
      "execution_count": 4,
      "outputs": []
    },
    {
      "cell_type": "code",
      "metadata": {
        "colab": {
          "base_uri": "https://localhost:8080/"
        },
        "id": "minimal-investing",
        "outputId": "51916c8b-be35-42e9-dde1-23038bcc7535"
      },
      "source": [
        "#hyperparameters\n",
        "seed = 2\n",
        "batch_size = 16 # [modify]\n",
        "learning_rate = 2e-5\n",
        "weight_decay = 1e-2\n",
        "epsilon = 1e-8\n",
        " \n",
        "random.seed(seed)\n",
        "np.random.seed(seed)\n",
        "torch.manual_seed(seed)"
      ],
      "id": "minimal-investing",
      "execution_count": 5,
      "outputs": [
        {
          "output_type": "execute_result",
          "data": {
            "text/plain": [
              "<torch._C.Generator at 0x7f7e75c9f0d0>"
            ]
          },
          "metadata": {},
          "execution_count": 5
        }
      ]
    },
    {
      "cell_type": "markdown",
      "metadata": {
        "id": "EqjggfUMjvd9"
      },
      "source": [
        "#### Load Annual Report dataset"
      ],
      "id": "EqjggfUMjvd9"
    },
    {
      "cell_type": "code",
      "metadata": {
        "id": "iLdGieKejqck"
      },
      "source": [
        "data = pd.read_excel('/content/annual_report.xlsx')\n",
        "#train on annual report"
      ],
      "id": "iLdGieKejqck",
      "execution_count": 6,
      "outputs": []
    },
    {
      "cell_type": "code",
      "metadata": {
        "colab": {
          "base_uri": "https://localhost:8080/"
        },
        "id": "3w9MMbBMse6E",
        "outputId": "cf30653e-ee01-415a-874b-618f1668b4e6"
      },
      "source": [
        "data['Final'].value_counts() "
      ],
      "id": "3w9MMbBMse6E",
      "execution_count": 7,
      "outputs": [
        {
          "output_type": "execute_result",
          "data": {
            "text/plain": [
              "1.0     6487\n",
              "0.0     4127\n",
              "10.0    2218\n",
              "2.0     1309\n",
              "41.0     336\n",
              "3.0      275\n",
              "43.0     160\n",
              "42.0      82\n",
              "40.0      16\n",
              "Name: Final, dtype: int64"
            ]
          },
          "metadata": {},
          "execution_count": 7
        }
      ]
    },
    {
      "cell_type": "code",
      "metadata": {
        "id": "coupled-ordering",
        "colab": {
          "base_uri": "https://localhost:8080/",
          "height": 423
        },
        "outputId": "3ac732c6-3186-45c5-c351-d09956d67050"
      },
      "source": [
        "\n",
        "data = data[['Sentence','Final']].dropna(how = 'any')\n",
        "\n",
        "# keep 0, 1, 2 only\n",
        "\n",
        "filt = data['Final'] <= 2\n",
        "data = data.loc[filt]\n",
        "\n",
        "data = data.drop_duplicates()\n",
        "\n",
        "data"
      ],
      "id": "coupled-ordering",
      "execution_count": 8,
      "outputs": [
        {
          "output_type": "execute_result",
          "data": {
            "text/html": [
              "<div>\n",
              "<style scoped>\n",
              "    .dataframe tbody tr th:only-of-type {\n",
              "        vertical-align: middle;\n",
              "    }\n",
              "\n",
              "    .dataframe tbody tr th {\n",
              "        vertical-align: top;\n",
              "    }\n",
              "\n",
              "    .dataframe thead th {\n",
              "        text-align: right;\n",
              "    }\n",
              "</style>\n",
              "<table border=\"1\" class=\"dataframe\">\n",
              "  <thead>\n",
              "    <tr style=\"text-align: right;\">\n",
              "      <th></th>\n",
              "      <th>Sentence</th>\n",
              "      <th>Final</th>\n",
              "    </tr>\n",
              "  </thead>\n",
              "  <tbody>\n",
              "    <tr>\n",
              "      <th>0</th>\n",
              "      <td>2010 年宏观经济环境良好，公司抓住市场机遇，积极开拓市场，不断扩大生产 和销售规模，同时...</td>\n",
              "      <td>1.0</td>\n",
              "    </tr>\n",
              "    <tr>\n",
              "      <th>1</th>\n",
              "      <td>2010 年公司股票公开发行，并于 9 月 15 日在深圳证券交易所中小板成功上市。</td>\n",
              "      <td>0.0</td>\n",
              "    </tr>\n",
              "    <tr>\n",
              "      <th>2</th>\n",
              "      <td>公司股票上市后，为公司发展创造了良好条件，对公司形象拓展、品牌提升、规范运 作等方面起到了积...</td>\n",
              "      <td>1.0</td>\n",
              "    </tr>\n",
              "    <tr>\n",
              "      <th>3</th>\n",
              "      <td>经营范围:生产经营连接线、连接器、电脑周边设备、塑胶五金制品。</td>\n",
              "      <td>0.0</td>\n",
              "    </tr>\n",
              "    <tr>\n",
              "      <th>4</th>\n",
              "      <td>公司的电脑连接器产品销售收入占销售收入的主要部分，主要包括台式电脑连接 器和笔记本电脑连接器...</td>\n",
              "      <td>0.0</td>\n",
              "    </tr>\n",
              "    <tr>\n",
              "      <th>...</th>\n",
              "      <td>...</td>\n",
              "      <td>...</td>\n",
              "    </tr>\n",
              "    <tr>\n",
              "      <th>15005</th>\n",
              "      <td>信息科技投入主要投向 系统运营、电子设备和软件采购、信息科技人力资源配置、信息科技咨询和基础...</td>\n",
              "      <td>0.0</td>\n",
              "    </tr>\n",
              "    <tr>\n",
              "      <th>15006</th>\n",
              "      <td>截至报告期 末，全行累计立项金融科技创新项目2,106个，其中1,374个项目已投产上线，覆...</td>\n",
              "      <td>0.0</td>\n",
              "    </tr>\n",
              "    <tr>\n",
              "      <th>15007</th>\n",
              "      <td>随着数字化转型的深入，全行管理能力和效率逐步提升。</td>\n",
              "      <td>1.0</td>\n",
              "    </tr>\n",
              "    <tr>\n",
              "      <th>15008</th>\n",
              "      <td>零售金融持续优化客户关系管理系统——W+平台，实 时提供专业建议、上线智能辅助销售功能，线上...</td>\n",
              "      <td>0.0</td>\n",
              "    </tr>\n",
              "    <tr>\n",
              "      <th>15010</th>\n",
              "      <td>批发条线以客户关系管理系统(CRM 4.0)为载体，以场景串联客户信息、资讯案例、业务办理、...</td>\n",
              "      <td>0.0</td>\n",
              "    </tr>\n",
              "  </tbody>\n",
              "</table>\n",
              "<p>11927 rows × 2 columns</p>\n",
              "</div>"
            ],
            "text/plain": [
              "                                                Sentence  Final\n",
              "0      2010 年宏观经济环境良好，公司抓住市场机遇，积极开拓市场，不断扩大生产 和销售规模，同时...    1.0\n",
              "1            2010 年公司股票公开发行，并于 9 月 15 日在深圳证券交易所中小板成功上市。     0.0\n",
              "2      公司股票上市后，为公司发展创造了良好条件，对公司形象拓展、品牌提升、规范运 作等方面起到了积...    1.0\n",
              "3                       经营范围:生产经营连接线、连接器、电脑周边设备、塑胶五金制品。     0.0\n",
              "4      公司的电脑连接器产品销售收入占销售收入的主要部分，主要包括台式电脑连接 器和笔记本电脑连接器...    0.0\n",
              "...                                                  ...    ...\n",
              "15005  信息科技投入主要投向 系统运营、电子设备和软件采购、信息科技人力资源配置、信息科技咨询和基础...    0.0\n",
              "15006  截至报告期 末，全行累计立项金融科技创新项目2,106个，其中1,374个项目已投产上线，覆...    0.0\n",
              "15007                          随着数字化转型的深入，全行管理能力和效率逐步提升。    1.0\n",
              "15008  零售金融持续优化客户关系管理系统——W+平台，实 时提供专业建议、上线智能辅助销售功能，线上...    0.0\n",
              "15010  批发条线以客户关系管理系统(CRM 4.0)为载体，以场景串联客户信息、资讯案例、业务办理、...    0.0\n",
              "\n",
              "[11927 rows x 2 columns]"
            ]
          },
          "metadata": {},
          "execution_count": 8
        }
      ]
    },
    {
      "cell_type": "markdown",
      "metadata": {
        "id": "fHreXAaj4z9w"
      },
      "source": [
        "###Load Analyst Report dataset"
      ],
      "id": "fHreXAaj4z9w"
    },
    {
      "cell_type": "code",
      "metadata": {
        "id": "NffuS_Dd43pC",
        "colab": {
          "base_uri": "https://localhost:8080/"
        },
        "outputId": "9b95e738-0a66-45df-c9fa-cb8f41777625"
      },
      "source": [
        "# cross-test on analyst report\n",
        "report = pd.read_excel('/content/analyst_report.xlsx')\n",
        "report['Final'].value_counts() "
      ],
      "id": "NffuS_Dd43pC",
      "execution_count": 9,
      "outputs": [
        {
          "output_type": "execute_result",
          "data": {
            "text/plain": [
              "1     5590\n",
              "0     2916\n",
              "2     1543\n",
              "10    1083\n",
              "3      331\n",
              "43     220\n",
              "41     209\n",
              "42      72\n",
              "40      35\n",
              "4        1\n",
              "Name: Final, dtype: int64"
            ]
          },
          "metadata": {},
          "execution_count": 9
        }
      ]
    },
    {
      "cell_type": "code",
      "metadata": {
        "id": "aLJkD2jP5CtR",
        "colab": {
          "base_uri": "https://localhost:8080/",
          "height": 423
        },
        "outputId": "f91edc13-cbde-46bb-ab0d-c592df4f8f1b"
      },
      "source": [
        "report = report[['Sentence','Final']].dropna(how = 'any')\n",
        "\n",
        "# # keep 0, 1, 2 only\n",
        "\n",
        "filt = report['Final'] <= 2\n",
        "report = report.loc[filt]\n",
        "\n",
        "report = report.drop_duplicates()\n",
        "\n",
        "report"
      ],
      "id": "aLJkD2jP5CtR",
      "execution_count": 10,
      "outputs": [
        {
          "output_type": "execute_result",
          "data": {
            "text/html": [
              "<div>\n",
              "<style scoped>\n",
              "    .dataframe tbody tr th:only-of-type {\n",
              "        vertical-align: middle;\n",
              "    }\n",
              "\n",
              "    .dataframe tbody tr th {\n",
              "        vertical-align: top;\n",
              "    }\n",
              "\n",
              "    .dataframe thead th {\n",
              "        text-align: right;\n",
              "    }\n",
              "</style>\n",
              "<table border=\"1\" class=\"dataframe\">\n",
              "  <thead>\n",
              "    <tr style=\"text-align: right;\">\n",
              "      <th></th>\n",
              "      <th>Sentence</th>\n",
              "      <th>Final</th>\n",
              "    </tr>\n",
              "  </thead>\n",
              "  <tbody>\n",
              "    <tr>\n",
              "      <th>0</th>\n",
              "      <td>因2Q收入低于预期，下调19/20年收入预测5.4%/7.1%至56.8/61.2亿元，因成...</td>\n",
              "      <td>2</td>\n",
              "    </tr>\n",
              "    <tr>\n",
              "      <th>2</th>\n",
              "      <td>下调A/H股目标价46.4%/52%至7.5元/6.5港元。</td>\n",
              "      <td>0</td>\n",
              "    </tr>\n",
              "    <tr>\n",
              "      <th>3</th>\n",
              "      <td>公司Q3继续控制普五发货节奏，批价保持在820元左右。</td>\n",
              "      <td>0</td>\n",
              "    </tr>\n",
              "    <tr>\n",
              "      <th>4</th>\n",
              "      <td>船体可以装载长50米、高4.85米、宽8米、重量巨大的特种车辆。</td>\n",
              "      <td>0</td>\n",
              "    </tr>\n",
              "    <tr>\n",
              "      <th>5</th>\n",
              "      <td>房地产业务毛利率提升公司上半年房地产业务实现销售收入5.03亿元，同比去年下降-15.46%。</td>\n",
              "      <td>2</td>\n",
              "    </tr>\n",
              "    <tr>\n",
              "      <th>...</th>\n",
              "      <td>...</td>\n",
              "      <td>...</td>\n",
              "    </tr>\n",
              "    <tr>\n",
              "      <th>11994</th>\n",
              "      <td>今年上半年公司天然气与管道业务实现经营收益139.34亿元，同比增长21.9%。</td>\n",
              "      <td>1</td>\n",
              "    </tr>\n",
              "    <tr>\n",
              "      <th>11995</th>\n",
              "      <td>国家管网集团“十四五期间”初步规划新建油气管道超过2.5万公里，LNG接收站、储气库、海上平...</td>\n",
              "      <td>1</td>\n",
              "    </tr>\n",
              "    <tr>\n",
              "      <th>11996</th>\n",
              "      <td>行业需求不及预期、市场竞争风险加剧、技术研发不及预期。</td>\n",
              "      <td>2</td>\n",
              "    </tr>\n",
              "    <tr>\n",
              "      <th>11997</th>\n",
              "      <td>业务主要分布在华东地区，全国布局雏形初现。</td>\n",
              "      <td>0</td>\n",
              "    </tr>\n",
              "    <tr>\n",
              "      <th>11998</th>\n",
              "      <td>展望后期，硬软件及汽车后市场有望逐步启动。</td>\n",
              "      <td>0</td>\n",
              "    </tr>\n",
              "  </tbody>\n",
              "</table>\n",
              "<p>10028 rows × 2 columns</p>\n",
              "</div>"
            ],
            "text/plain": [
              "                                                Sentence  Final\n",
              "0      因2Q收入低于预期，下调19/20年收入预测5.4%/7.1%至56.8/61.2亿元，因成...      2\n",
              "2                         下调A/H股目标价46.4%/52%至7.5元/6.5港元。      0\n",
              "3                            公司Q3继续控制普五发货节奏，批价保持在820元左右。      0\n",
              "4                       船体可以装载长50米、高4.85米、宽8米、重量巨大的特种车辆。      0\n",
              "5        房地产业务毛利率提升公司上半年房地产业务实现销售收入5.03亿元，同比去年下降-15.46%。      2\n",
              "...                                                  ...    ...\n",
              "11994           今年上半年公司天然气与管道业务实现经营收益139.34亿元，同比增长21.9%。      1\n",
              "11995  国家管网集团“十四五期间”初步规划新建油气管道超过2.5万公里，LNG接收站、储气库、海上平...      1\n",
              "11996                        行业需求不及预期、市场竞争风险加剧、技术研发不及预期。      2\n",
              "11997                              业务主要分布在华东地区，全国布局雏形初现。      0\n",
              "11998                              展望后期，硬软件及汽车后市场有望逐步启动。      0\n",
              "\n",
              "[10028 rows x 2 columns]"
            ]
          },
          "metadata": {},
          "execution_count": 10
        }
      ]
    },
    {
      "cell_type": "markdown",
      "metadata": {
        "id": "SvUzF8Wuv1JO"
      },
      "source": [
        "## Benchmark methods"
      ],
      "id": "SvUzF8Wuv1JO"
    },
    {
      "cell_type": "markdown",
      "metadata": {
        "id": "ORmwx7DDxTcp"
      },
      "source": [
        "#### Clean text\n"
      ],
      "id": "ORmwx7DDxTcp"
    },
    {
      "cell_type": "code",
      "metadata": {
        "id": "bnpWmibaxRpt",
        "colab": {
          "base_uri": "https://localhost:8080/",
          "height": 275
        },
        "outputId": "28c58d86-28a6-4354-933d-39bff860387d"
      },
      "source": [
        "import re\n",
        " \n",
        "def clear_character(sentence):\n",
        "    pattern1='[a-zA-Z0-9]'\n",
        "    pattern2 = re.compile(u'[^\\s1234567890:：' + '\\u4e00-\\u9fa5]+')\n",
        "    pattern3='[’!\"#$%&\\'()*+,-./:;<=>?@[\\\\]^_`{|}~]+'\n",
        "    line1 = re.sub(pattern1,'',sentence)   #Remove letters and numbers\n",
        "    line2 = re.sub(pattern2,'',line1)   #remove other characters and emojis\n",
        "    line3 = re.sub(pattern3,'',line2)   \n",
        "    new_sentence=''.join(line3.split()) #remove the blank\n",
        "    return new_sentence\n",
        "\n",
        "data['Sentence1'] = data['Sentence'].apply(clear_character)\n",
        "report['Sentence1'] = report['Sentence'].apply(clear_character)\n",
        " \n",
        "data.sample(5)"
      ],
      "id": "bnpWmibaxRpt",
      "execution_count": 11,
      "outputs": [
        {
          "output_type": "execute_result",
          "data": {
            "text/html": [
              "<div>\n",
              "<style scoped>\n",
              "    .dataframe tbody tr th:only-of-type {\n",
              "        vertical-align: middle;\n",
              "    }\n",
              "\n",
              "    .dataframe tbody tr th {\n",
              "        vertical-align: top;\n",
              "    }\n",
              "\n",
              "    .dataframe thead th {\n",
              "        text-align: right;\n",
              "    }\n",
              "</style>\n",
              "<table border=\"1\" class=\"dataframe\">\n",
              "  <thead>\n",
              "    <tr style=\"text-align: right;\">\n",
              "      <th></th>\n",
              "      <th>Sentence</th>\n",
              "      <th>Final</th>\n",
              "      <th>Sentence1</th>\n",
              "    </tr>\n",
              "  </thead>\n",
              "  <tbody>\n",
              "    <tr>\n",
              "      <th>11095</th>\n",
              "      <td>加快走出去步伐，整合海外销售资源</td>\n",
              "      <td>1.0</td>\n",
              "      <td>加快走出去步伐整合海外销售资源</td>\n",
              "    </tr>\n",
              "    <tr>\n",
              "      <th>11588</th>\n",
              "      <td>2017 年，全球全面进入数字经济时代，新一代信息技术与实体经济深度融合，互联网将给各 行各...</td>\n",
              "      <td>1.0</td>\n",
              "      <td>年全球全面进入数字经济时代新一代信息技术与实体经济深度融合互联网将给各行各业赋能带来至大无外...</td>\n",
              "    </tr>\n",
              "    <tr>\n",
              "      <th>1148</th>\n",
              "      <td>业务布局取得突破，市场开拓进步明显，报告期内实现营收约13.28亿元，同比增长约61.72%。</td>\n",
              "      <td>1.0</td>\n",
              "      <td>业务布局取得突破市场开拓进步明显报告期内实现营收约亿元同比增长约</td>\n",
              "    </tr>\n",
              "    <tr>\n",
              "      <th>1201</th>\n",
              "      <td>此外，公司高度重视在底层材料及创新生产技术的长期耕耘，研发团队持续深入技术前端，学习探索先进...</td>\n",
              "      <td>1.0</td>\n",
              "      <td>此外公司高度重视在底层材料及创新生产技术的长期耕耘研发团队持续深入技术前端学习探索先进精密制...</td>\n",
              "    </tr>\n",
              "    <tr>\n",
              "      <th>10686</th>\n",
              "      <td>本公司2009年 度按香港财务报告准则计算出来的经审计净利润为人民币721,736千元,加上...</td>\n",
              "      <td>0.0</td>\n",
              "      <td>本公司年度按香港财务报告准则计算出来的经审计净利润为人民币千元加上年初未分配利润人民币千元则...</td>\n",
              "    </tr>\n",
              "  </tbody>\n",
              "</table>\n",
              "</div>"
            ],
            "text/plain": [
              "                                                Sentence  ...                                          Sentence1\n",
              "11095                                   加快走出去步伐，整合海外销售资源  ...                                    加快走出去步伐整合海外销售资源\n",
              "11588  2017 年，全球全面进入数字经济时代，新一代信息技术与实体经济深度融合，互联网将给各 行各...  ...  年全球全面进入数字经济时代新一代信息技术与实体经济深度融合互联网将给各行各业赋能带来至大无外...\n",
              "1148    业务布局取得突破，市场开拓进步明显，报告期内实现营收约13.28亿元，同比增长约61.72%。   ...                   业务布局取得突破市场开拓进步明显报告期内实现营收约亿元同比增长约\n",
              "1201   此外，公司高度重视在底层材料及创新生产技术的长期耕耘，研发团队持续深入技术前端，学习探索先进...  ...  此外公司高度重视在底层材料及创新生产技术的长期耕耘研发团队持续深入技术前端学习探索先进精密制...\n",
              "10686  本公司2009年 度按香港财务报告准则计算出来的经审计净利润为人民币721,736千元,加上...  ...  本公司年度按香港财务报告准则计算出来的经审计净利润为人民币千元加上年初未分配利润人民币千元则...\n",
              "\n",
              "[5 rows x 3 columns]"
            ]
          },
          "metadata": {},
          "execution_count": 11
        }
      ]
    },
    {
      "cell_type": "markdown",
      "metadata": {
        "id": "fjr1L_09x0oA"
      },
      "source": [
        "#### Tokenization\n"
      ],
      "id": "fjr1L_09x0oA"
    },
    {
      "cell_type": "code",
      "metadata": {
        "id": "6HgbALd7x6HN",
        "colab": {
          "base_uri": "https://localhost:8080/"
        },
        "outputId": "c7260f47-0907-47de-baf8-a033ba014084"
      },
      "source": [
        "import jieba\n",
        "\n",
        "def sentence_cut(sentence):\n",
        "    seg = list(jieba.cut(sentence.strip()))\n",
        "    return seg\n",
        "\n",
        "tqdm.pandas(desc='apply')\n",
        "data['Sentence2'] = data['Sentence1'].progress_apply(sentence_cut)\n",
        "report['Sentence2'] = report['Sentence1'].progress_apply(sentence_cut)"
      ],
      "id": "6HgbALd7x6HN",
      "execution_count": 12,
      "outputs": [
        {
          "output_type": "stream",
          "text": [
            "\rapply:   0%|          | 0/11927 [00:00<?, ?it/s]Building prefix dict from the default dictionary ...\n",
            "Dumping model to file cache /tmp/jieba.cache\n",
            "Loading model cost 1.037 seconds.\n",
            "Prefix dict has been built successfully.\n",
            "apply: 100%|██████████| 11927/11927 [00:03<00:00, 3074.57it/s]\n",
            "apply: 100%|██████████| 10028/10028 [00:02<00:00, 4410.16it/s]\n"
          ],
          "name": "stderr"
        }
      ]
    },
    {
      "cell_type": "code",
      "metadata": {
        "id": "uttoEvIQ5SWM",
        "colab": {
          "base_uri": "https://localhost:8080/"
        },
        "outputId": "8dfc226c-4e63-499e-c245-3cdff005fd62"
      },
      "source": [
        "with open('/content/cn_stopwords.txt', 'r', encoding='utf-8') as f:\n",
        "    stopWords = f.read().split('\\n')\n",
        "\n",
        "stopWords[:30]"
      ],
      "id": "uttoEvIQ5SWM",
      "execution_count": 13,
      "outputs": [
        {
          "output_type": "execute_result",
          "data": {
            "text/plain": [
              "['$',\n",
              " '0',\n",
              " '1',\n",
              " '2',\n",
              " '3',\n",
              " '4',\n",
              " '5',\n",
              " '6',\n",
              " '7',\n",
              " '8',\n",
              " '9',\n",
              " '?',\n",
              " '_',\n",
              " '“',\n",
              " '”',\n",
              " '、',\n",
              " '。',\n",
              " '《',\n",
              " '》',\n",
              " '一',\n",
              " '一些',\n",
              " '一何',\n",
              " '一切',\n",
              " '一则',\n",
              " '一方面',\n",
              " '一旦',\n",
              " '一来',\n",
              " '一样',\n",
              " '一般',\n",
              " '一转眼']"
            ]
          },
          "metadata": {},
          "execution_count": 13
        }
      ]
    },
    {
      "cell_type": "code",
      "metadata": {
        "id": "rHQai2sfyym4",
        "colab": {
          "base_uri": "https://localhost:8080/"
        },
        "outputId": "6dae4aee-453c-41a9-f7ec-429414deadf8"
      },
      "source": [
        "# remove the stopwords\n",
        "\n",
        "def rm_stop_word(wordList):\n",
        "    filtered_words = [word for word in wordList if word not in stopWords]\n",
        "    return filtered_words\n",
        "\n",
        "data['Sentence3'] = data['Sentence2'].progress_apply(rm_stop_word)\n",
        "report['Sentence3'] = report['Sentence2'].progress_apply(rm_stop_word)\n"
      ],
      "id": "rHQai2sfyym4",
      "execution_count": 14,
      "outputs": [
        {
          "output_type": "stream",
          "text": [
            "apply: 100%|██████████| 11927/11927 [00:04<00:00, 2529.56it/s]\n",
            "apply: 100%|██████████| 10028/10028 [00:03<00:00, 2817.88it/s]\n"
          ],
          "name": "stderr"
        }
      ]
    },
    {
      "cell_type": "code",
      "metadata": {
        "id": "KRz0Ttx6_w7Z",
        "colab": {
          "base_uri": "https://localhost:8080/",
          "height": 571
        },
        "outputId": "1f5a0e99-d927-4489-9cfb-d245329b0db4"
      },
      "source": [
        "# remove words with frequency less than 10\n",
        "\n",
        "list_set = []\n",
        " \n",
        "for i in range(len(data)):\n",
        "    for j in data.iloc[i]['Sentence3']: \n",
        "        list_set.append(j) # change \"extend\" into \"append\"\n",
        "\n",
        "words_count = Counter(list_set)\n",
        "min_threshold = 10\n",
        "my_dict = {k: v for k, v in words_count.items() if v < min_threshold}\n",
        "filteredA = Counter(my_dict)\n",
        "\n",
        "\n",
        "def rm_low_frequence_word(wordList):\n",
        "    \n",
        "    filtered_words = [word for word in wordList if word not in filteredA]\n",
        "    return filtered_words\n",
        "\n",
        "data['Sentence4'] = data['Sentence3'].progress_apply(rm_low_frequence_word)\n",
        "report['Sentence4'] = report['Sentence3'].progress_apply(rm_low_frequence_word)\n",
        "data.sample(5)"
      ],
      "id": "KRz0Ttx6_w7Z",
      "execution_count": 15,
      "outputs": [
        {
          "output_type": "stream",
          "text": [
            "apply: 100%|██████████| 11927/11927 [00:00<00:00, 134776.68it/s]\n",
            "apply: 100%|██████████| 10028/10028 [00:00<00:00, 138804.76it/s]\n"
          ],
          "name": "stderr"
        },
        {
          "output_type": "execute_result",
          "data": {
            "text/html": [
              "<div>\n",
              "<style scoped>\n",
              "    .dataframe tbody tr th:only-of-type {\n",
              "        vertical-align: middle;\n",
              "    }\n",
              "\n",
              "    .dataframe tbody tr th {\n",
              "        vertical-align: top;\n",
              "    }\n",
              "\n",
              "    .dataframe thead th {\n",
              "        text-align: right;\n",
              "    }\n",
              "</style>\n",
              "<table border=\"1\" class=\"dataframe\">\n",
              "  <thead>\n",
              "    <tr style=\"text-align: right;\">\n",
              "      <th></th>\n",
              "      <th>Sentence</th>\n",
              "      <th>Final</th>\n",
              "      <th>Sentence1</th>\n",
              "      <th>Sentence2</th>\n",
              "      <th>Sentence3</th>\n",
              "      <th>Sentence4</th>\n",
              "    </tr>\n",
              "  </thead>\n",
              "  <tbody>\n",
              "    <tr>\n",
              "      <th>11512</th>\n",
              "      <td>2017 年，公司 4G 用户净增 7033 万户，总数达到 17,488 万户，4G 用户...</td>\n",
              "      <td>1.0</td>\n",
              "      <td>年公司用户净增万户总数达到万户用户市场份额同比提高个百分点用户占移动出账用户比例达到同比提高...</td>\n",
              "      <td>[年, 公司, 用户, 净增, 万户, 总数, 达到, 万户, 用户, 市场份额, 同比, ...</td>\n",
              "      <td>[年, 公司, 用户, 净增, 万户, 总数, 达到, 万户, 用户, 市场份额, 同比, ...</td>\n",
              "      <td>[年, 公司, 用户, 万户, 总数, 达到, 万户, 用户, 市场份额, 同比, 提高, ...</td>\n",
              "    </tr>\n",
              "    <tr>\n",
              "      <th>13292</th>\n",
              "      <td>积极应对电力体制改革，充分发挥产业链一体化、大容量机组和电源布局优势，优化交易电资源配置。</td>\n",
              "      <td>1.0</td>\n",
              "      <td>积极应对电力体制改革充分发挥产业链一体化大容量机组和电源布局优势优化交易电资源配置</td>\n",
              "      <td>[积极, 应对, 电力, 体制改革, 充分发挥, 产业链, 一体化, 大容量, 机组, 和,...</td>\n",
              "      <td>[积极, 应对, 电力, 体制改革, 充分发挥, 产业链, 一体化, 大容量, 机组, 电源...</td>\n",
              "      <td>[积极, 应对, 电力, 体制改革, 充分发挥, 产业链, 一体化, 大容量, 机组, 电源...</td>\n",
              "    </tr>\n",
              "    <tr>\n",
              "      <th>5495</th>\n",
              "      <td>公司整体经营目标顺利完成，盈利能力稳固提升，\\n自有资金、渠道库存等各项指标持续向好，产品品...</td>\n",
              "      <td>1.0</td>\n",
              "      <td>公司整体经营目标顺利完成盈利能力稳固提升自有资金渠道库存等各项指标持续向好产品品质与口碑持续...</td>\n",
              "      <td>[公司, 整体, 经营, 目标, 顺利完成, 盈利, 能力, 稳固, 提升, 自有, 资金,...</td>\n",
              "      <td>[公司, 整体, 经营, 目标, 顺利完成, 盈利, 能力, 稳固, 提升, 自有, 资金,...</td>\n",
              "      <td>[公司, 整体, 经营, 目标, 顺利完成, 盈利, 能力, 稳固, 提升, 自有, 资金,...</td>\n",
              "    </tr>\n",
              "    <tr>\n",
              "      <th>11334</th>\n",
              "      <td>新的一年是公司全面实施聚焦战略、创新合作发展的起步之年</td>\n",
              "      <td>1.0</td>\n",
              "      <td>新的一年是公司全面实施聚焦战略创新合作发展的起步之年</td>\n",
              "      <td>[新, 的, 一年, 是, 公司, 全面实施, 聚焦, 战略, 创新, 合作, 发展, 的,...</td>\n",
              "      <td>[新, 一年, 公司, 全面实施, 聚焦, 战略, 创新, 合作, 发展, 起步, 年]</td>\n",
              "      <td>[新, 一年, 公司, 聚焦, 战略, 创新, 合作, 发展, 年]</td>\n",
              "    </tr>\n",
              "    <tr>\n",
              "      <th>8895</th>\n",
              "      <td>国务院办公厅公布《关于进一步优化营商环境更好服务市场主体的实施意见》，将为龙\\n头防水企业做...</td>\n",
              "      <td>1.0</td>\n",
              "      <td>国务院办公厅公布关于进一步优化营商环境更好服务市场主体的实施意见将为龙头防水企业做大做强防水...</td>\n",
              "      <td>[国务院办公厅, 公布, 关于, 进一步, 优化, 营商, 环境, 更好, 服务, 市场主体...</td>\n",
              "      <td>[国务院办公厅, 公布, 进一步, 优化, 营商, 环境, 更好, 服务, 市场主体, 实施...</td>\n",
              "      <td>[公布, 进一步, 优化, 环境, 更好, 服务, 实施, 意见, 龙头, 防水, 企业, ...</td>\n",
              "    </tr>\n",
              "  </tbody>\n",
              "</table>\n",
              "</div>"
            ],
            "text/plain": [
              "                                                Sentence  ...                                          Sentence4\n",
              "11512  2017 年，公司 4G 用户净增 7033 万户，总数达到 17,488 万户，4G 用户...  ...  [年, 公司, 用户, 万户, 总数, 达到, 万户, 用户, 市场份额, 同比, 提高, ...\n",
              "13292      积极应对电力体制改革，充分发挥产业链一体化、大容量机组和电源布局优势，优化交易电资源配置。  ...  [积极, 应对, 电力, 体制改革, 充分发挥, 产业链, 一体化, 大容量, 机组, 电源...\n",
              "5495   公司整体经营目标顺利完成，盈利能力稳固提升，\\n自有资金、渠道库存等各项指标持续向好，产品品...  ...  [公司, 整体, 经营, 目标, 顺利完成, 盈利, 能力, 稳固, 提升, 自有, 资金,...\n",
              "11334                        新的一年是公司全面实施聚焦战略、创新合作发展的起步之年  ...                 [新, 一年, 公司, 聚焦, 战略, 创新, 合作, 发展, 年]\n",
              "8895   国务院办公厅公布《关于进一步优化营商环境更好服务市场主体的实施意见》，将为龙\\n头防水企业做...  ...  [公布, 进一步, 优化, 环境, 更好, 服务, 实施, 意见, 龙头, 防水, 企业, ...\n",
              "\n",
              "[5 rows x 6 columns]"
            ]
          },
          "metadata": {},
          "execution_count": 15
        }
      ]
    },
    {
      "cell_type": "markdown",
      "metadata": {
        "id": "ewNZz9vWAip1"
      },
      "source": [
        "#### Split into train and test sets"
      ],
      "id": "ewNZz9vWAip1"
    },
    {
      "cell_type": "code",
      "metadata": {
        "id": "pkyPwIyQDMqj"
      },
      "source": [
        "#randomly select 10000 sentences for training\n",
        "data = data.sample(n=10000)"
      ],
      "id": "pkyPwIyQDMqj",
      "execution_count": 16,
      "outputs": []
    },
    {
      "cell_type": "code",
      "metadata": {
        "id": "r5VfZZeGAdaB",
        "colab": {
          "base_uri": "https://localhost:8080/"
        },
        "outputId": "c4184e49-b52a-4297-e3b6-fa10eafd389e"
      },
      "source": [
        "# Divide the training set and the test set\n",
        "\n",
        "from sklearn.model_selection import train_test_split\n",
        "\n",
        "X = data['Sentence4']\n",
        "y = data['Final']\n",
        "x_report = report['Sentence4']\n",
        "y_report = report['Final']\n",
        "\n",
        "sentence_train, sentence_test, y_train, y_test = train_test_split(X, y, test_size = 0.2, random_state = 2)\n",
        "sentence_train, sentence_val, y_train, y_val = train_test_split(sentence_train, y_train, test_size = 0.2, random_state = 2)\n",
        "\n",
        "print(sentence_train.head(), y_train.head)"
      ],
      "id": "r5VfZZeGAdaB",
      "execution_count": 17,
      "outputs": [
        {
          "output_type": "stream",
          "text": [
            "10900                             [通信, 技术, 领域, 开展, 广泛, 合作]\n",
            "13432    [剔除, 财务, 公司, 影响, 集团, 经营, 活动, 现金, 净流入, 同比, 下降, ...\n",
            "13918                   [努力, 拓展, 中间业务, 手续费, 佣金, 净收入, 稳步增长]\n",
            "3681      [受, 上述, 三个, 方面, 影响, 现金, 现金, 等价物, 净, 增加额, 上年, 变动]\n",
            "7431     [年月日, 公司, 宁波, 实业, 投资, 合伙, 企业, 有限, 合伙, 签订, 股权, ...\n",
            "Name: Sentence4, dtype: object <bound method NDFrame.head of 10900    0.0\n",
            "13432    2.0\n",
            "13918    1.0\n",
            "3681     2.0\n",
            "7431     0.0\n",
            "        ... \n",
            "13428    2.0\n",
            "14194    1.0\n",
            "12938    0.0\n",
            "3193     0.0\n",
            "5235     1.0\n",
            "Name: Final, Length: 6400, dtype: float64>\n"
          ],
          "name": "stdout"
        }
      ]
    },
    {
      "cell_type": "markdown",
      "metadata": {
        "id": "aBi_-lXZAx6A"
      },
      "source": [
        "#### Vectorize text\n"
      ],
      "id": "aBi_-lXZAx6A"
    },
    {
      "cell_type": "code",
      "metadata": {
        "id": "ikdvr24MA3IE",
        "colab": {
          "base_uri": "https://localhost:8080/"
        },
        "outputId": "6a8552c8-d384-461b-dad7-34d0ba5b7832"
      },
      "source": [
        "from sklearn.feature_extraction.text import TfidfTransformer\n",
        " \n",
        "sentence_train1 = [' '.join(i) for i in sentence_train]\n",
        "sentence_val1 = [' '.join(i) for i in sentence_val]\n",
        "sentence_test1 = [' '.join(i) for i in sentence_test]\n",
        "sentence_report = [' '.join(i) for i in x_report]\n",
        "\n",
        "print(sentence_train[0:5])\n",
        "print(sentence_train1[0:5])\n",
        " \n",
        "tfidf2 = TfidfTransformer()\n",
        "counter = CountVectorizer(analyzer = 'word')\n",
        "# counts = counter.fit_transform(comments_train1)\n",
        "\n",
        "tfidf_train = tfidf2.fit_transform(counter.fit_transform(sentence_train1))\n",
        "tfidf_val = tfidf2.transform(counter.transform(sentence_val1))\n",
        "tfidf_test = tfidf2.transform(counter.transform(sentence_test1))\n",
        "tfidf_report = tfidf2.transform(counter.transform(sentence_report))\n",
        "\n",
        "print(tfidf_train.shape,tfidf_val.shape)"
      ],
      "id": "ikdvr24MA3IE",
      "execution_count": 18,
      "outputs": [
        {
          "output_type": "stream",
          "text": [
            "10900                             [通信, 技术, 领域, 开展, 广泛, 合作]\n",
            "13432    [剔除, 财务, 公司, 影响, 集团, 经营, 活动, 现金, 净流入, 同比, 下降, ...\n",
            "13918                   [努力, 拓展, 中间业务, 手续费, 佣金, 净收入, 稳步增长]\n",
            "3681      [受, 上述, 三个, 方面, 影响, 现金, 现金, 等价物, 净, 增加额, 上年, 变动]\n",
            "7431     [年月日, 公司, 宁波, 实业, 投资, 合伙, 企业, 有限, 合伙, 签订, 股权, ...\n",
            "Name: Sentence4, dtype: object\n",
            "['通信 技术 领域 开展 广泛 合作', '剔除 财务 公司 影响 集团 经营 活动 现金 净流入 同比 下降 主要 原因 收入 下降 带来 现金 流入 减少', '努力 拓展 中间业务 手续费 佣金 净收入 稳步增长', '受 上述 三个 方面 影响 现金 现金 等价物 净 增加额 上年 变动', '年月日 公司 宁波 实业 投资 合伙 企业 有限 合伙 签订 股权 收购 协议 公司 现金 方式 收购 持有 宁波 股权 交易 定价 确定 亿元 业绩 承诺 公司 标的 公司 子公司 公司 参股 公司 业绩 实现 情况 支付 浮动 业绩 承诺 方向 公司 支付 业绩 补偿 标的 资产 年月日 完成 股权 交割 具体情况 请 详见 公司 年月日 披露 公告']\n",
            "(6400, 2820) (1600, 2820)\n"
          ],
          "name": "stdout"
        }
      ]
    },
    {
      "cell_type": "markdown",
      "metadata": {
        "id": "jfU-_V5DBSm8"
      },
      "source": [
        "#### Logistic regression"
      ],
      "id": "jfU-_V5DBSm8"
    },
    {
      "cell_type": "code",
      "metadata": {
        "id": "XrKkvrxnA3O3",
        "colab": {
          "base_uri": "https://localhost:8080/"
        },
        "outputId": "e7e4e59f-8fee-4278-a14a-9b2d14aa842e"
      },
      "source": [
        "from sklearn.linear_model import LogisticRegression\n",
        " \n",
        "lr_best = LogisticRegression(penalty='l2',solver = 'sag',class_weight = 'balanced')\n",
        "lr_best.fit(tfidf_train, y_train)\n",
        "tf_idf_y_pred = lr_best.predict(tfidf_val)\n",
        "\n",
        "# accuracy: (number of correct predictions)/(total predictions)\n",
        "acc_logit = metrics.accuracy_score(y_val, tf_idf_y_pred)\n",
        "print('TF-IDF LR validation accuracy %s' % acc_logit)\n",
        "\n",
        "f1_micro_logit = metrics.f1_score(y_val, tf_idf_y_pred,average = \"micro\")\n",
        "f1_macro_logit = metrics.f1_score(y_val, tf_idf_y_pred,average = \"macro\")\n",
        "print('TF-IDF LR validation F1_score %s' % f1_macro_logit)\n",
        "print('\\n')\n"
      ],
      "id": "XrKkvrxnA3O3",
      "execution_count": 19,
      "outputs": [
        {
          "output_type": "stream",
          "text": [
            "TF-IDF LR validation accuracy 0.813125\n",
            "TF-IDF LR validation F1_score 0.7678061241222083\n",
            "\n",
            "\n"
          ],
          "name": "stdout"
        }
      ]
    },
    {
      "cell_type": "code",
      "metadata": {
        "id": "XKYbZI0aaIsU",
        "colab": {
          "base_uri": "https://localhost:8080/"
        },
        "outputId": "e3b5cf94-a454-49ad-f926-6709ef75507b"
      },
      "source": [
        "# performance on test set\n",
        "\n",
        "test_y_pred = lr_best.predict(tfidf_test)\n",
        "\n",
        "# accuracy: (number of correct predictions)/(total predictions)\n",
        "test_acc_logit = metrics.accuracy_score(y_test, test_y_pred)\n",
        "print('TF-IDF LR validation accuracy %s' % test_acc_logit)\n",
        "\n",
        "f1_micro_logit = metrics.f1_score(y_test, test_y_pred,average = \"micro\")\n",
        "f1_macro_logit = metrics.f1_score(y_test, test_y_pred,average = \"macro\")\n",
        "print('TF-IDF LR validation F1_score %s' % f1_macro_logit)\n",
        "print('\\n')"
      ],
      "id": "XKYbZI0aaIsU",
      "execution_count": 20,
      "outputs": [
        {
          "output_type": "stream",
          "text": [
            "TF-IDF LR validation accuracy 0.813\n",
            "TF-IDF LR validation F1_score 0.7734094729139483\n",
            "\n",
            "\n"
          ],
          "name": "stdout"
        }
      ]
    },
    {
      "cell_type": "markdown",
      "metadata": {
        "id": "1kCLZ0-RC_MJ"
      },
      "source": [
        "#### Naive Bayes Classifier"
      ],
      "id": "1kCLZ0-RC_MJ"
    },
    {
      "cell_type": "code",
      "metadata": {
        "id": "xfO91e-EFK_X",
        "colab": {
          "base_uri": "https://localhost:8080/"
        },
        "outputId": "1bccff85-4a15-43c4-9cdd-26cf094f1224"
      },
      "source": [
        "from sklearn.naive_bayes import MultinomialNB\n",
        "# Compute predicted probabilities\n",
        "nb_model = MultinomialNB(alpha = 0.1,fit_prior = True)\n",
        "nb_model.fit(tfidf_train, y_train)\n",
        "probs = nb_model.predict_proba(tfidf_val)\n",
        "\n",
        "y_pred = []\n",
        "for i in probs:\n",
        "  y_pred.append(np.argmax(i))\n",
        "\n",
        "# Evaluate the classifier\n",
        "acc_nb = metrics.accuracy_score(y_pred, y_val)\n",
        "f1_micro_nb = metrics.f1_score(y_pred, y_val, average = 'micro')\n",
        "f1_macro_nb = metrics.f1_score(y_pred, y_val, average = 'macro')\n",
        "kappa_nb = metrics.cohen_kappa_score(y_pred, y_val)\n",
        "\n",
        "\n",
        "print(f'accuracy: {acc_nb*100:.2f}%')\n",
        "print(f'f1-score: {f1_macro_nb*100:.2f}%')"
      ],
      "id": "xfO91e-EFK_X",
      "execution_count": 21,
      "outputs": [
        {
          "output_type": "stream",
          "text": [
            "accuracy: 76.75%\n",
            "f1-score: 71.74%\n"
          ],
          "name": "stdout"
        }
      ]
    },
    {
      "cell_type": "code",
      "metadata": {
        "id": "idESIRFYa__Z",
        "colab": {
          "base_uri": "https://localhost:8080/"
        },
        "outputId": "9b70825b-39ee-4dfc-e535-220194fe216f"
      },
      "source": [
        "# performance on test set\n",
        "\n",
        "test_probs = nb_model.predict_proba(tfidf_test)\n",
        "y_pred = []\n",
        "for i in test_probs:\n",
        "  y_pred.append(np.argmax(i))\n",
        "\n",
        "# Evaluate the classifier\n",
        "acc_nb = metrics.accuracy_score(y_pred, y_test)\n",
        "f1_micro_nb = metrics.f1_score(y_pred, y_test, average = 'micro')\n",
        "f1_macro_nb = metrics.f1_score(y_pred, y_test, average = 'macro')\n",
        "kappa_nb = metrics.cohen_kappa_score(y_pred, y_test)\n",
        "\n",
        "\n",
        "print(f'accuracy: {acc_nb*100:.2f}%')\n",
        "print(f'f1-score: {f1_macro_nb*100:.2f}%')"
      ],
      "id": "idESIRFYa__Z",
      "execution_count": 22,
      "outputs": [
        {
          "output_type": "stream",
          "text": [
            "accuracy: 77.95%\n",
            "f1-score: 72.20%\n"
          ],
          "name": "stdout"
        }
      ]
    },
    {
      "cell_type": "markdown",
      "metadata": {
        "id": "lzENMdRfvklT"
      },
      "source": [
        "## Chinese BERT"
      ],
      "id": "lzENMdRfvklT"
    },
    {
      "cell_type": "code",
      "metadata": {
        "id": "SMoakUWh8wdL"
      },
      "source": [
        "# list\n",
        "X = data['Sentence'].tolist() # [modify]\n",
        "\n",
        "# array\n",
        "label_list = []\n",
        "for i in data['Final']:\n",
        "    label_list.append([i])\n",
        "y = np.array(label_list) \n",
        "total_targets = torch.tensor(y)"
      ],
      "id": "SMoakUWh8wdL",
      "execution_count": 24,
      "outputs": []
    },
    {
      "cell_type": "markdown",
      "metadata": {
        "id": "Zi1CoEOL1puh"
      },
      "source": [
        "#### Set up GPU for training\n"
      ],
      "id": "Zi1CoEOL1puh"
    },
    {
      "cell_type": "code",
      "metadata": {
        "id": "7Qn89dLqg319",
        "colab": {
          "base_uri": "https://localhost:8080/"
        },
        "outputId": "f6c33e9e-787f-4e1a-87bb-97d1666b9d61"
      },
      "source": [
        "import torch\n",
        "\n",
        "if torch.cuda.is_available():       \n",
        "    device = torch.device(\"cuda\")\n",
        "    print(f'There are {torch.cuda.device_count()} GPU(s) available.')\n",
        "    print('Device name:', torch.cuda.get_device_name(0))\n",
        "\n",
        "else:\n",
        "    print('No GPU available, using the CPU instead.')\n",
        "    device = torch.device(\"cpu\")"
      ],
      "id": "7Qn89dLqg319",
      "execution_count": 25,
      "outputs": [
        {
          "output_type": "stream",
          "text": [
            "There are 1 GPU(s) available.\n",
            "Device name: Tesla P100-PCIE-16GB\n"
          ],
          "name": "stdout"
        }
      ]
    },
    {
      "cell_type": "markdown",
      "metadata": {
        "id": "iNJtHNEK-OEM"
      },
      "source": [
        "#### Install the HuggingFace library"
      ],
      "id": "iNJtHNEK-OEM"
    },
    {
      "cell_type": "markdown",
      "metadata": {
        "id": "Qz3r0v3v-V3O"
      },
      "source": [
        "#### Tokenization and input formatting"
      ],
      "id": "Qz3r0v3v-V3O"
    },
    {
      "cell_type": "code",
      "metadata": {
        "id": "DX5QKpNm26gY",
        "colab": {
          "base_uri": "https://localhost:8080/"
        },
        "outputId": "58e936e4-d4b1-46ae-acad-6837401a0d2f"
      },
      "source": [
        "!pip install transformers"
      ],
      "id": "DX5QKpNm26gY",
      "execution_count": 26,
      "outputs": [
        {
          "output_type": "stream",
          "text": [
            "Collecting transformers\n",
            "  Downloading transformers-4.9.2-py3-none-any.whl (2.6 MB)\n",
            "\u001b[K     |████████████████████████████████| 2.6 MB 9.2 MB/s \n",
            "\u001b[?25hRequirement already satisfied: filelock in /usr/local/lib/python3.7/dist-packages (from transformers) (3.0.12)\n",
            "Collecting pyyaml>=5.1\n",
            "  Downloading PyYAML-5.4.1-cp37-cp37m-manylinux1_x86_64.whl (636 kB)\n",
            "\u001b[K     |████████████████████████████████| 636 kB 58.3 MB/s \n",
            "\u001b[?25hRequirement already satisfied: packaging in /usr/local/lib/python3.7/dist-packages (from transformers) (21.0)\n",
            "Collecting huggingface-hub==0.0.12\n",
            "  Downloading huggingface_hub-0.0.12-py3-none-any.whl (37 kB)\n",
            "Requirement already satisfied: numpy>=1.17 in /usr/local/lib/python3.7/dist-packages (from transformers) (1.19.5)\n",
            "Requirement already satisfied: regex!=2019.12.17 in /usr/local/lib/python3.7/dist-packages (from transformers) (2019.12.20)\n",
            "Requirement already satisfied: tqdm>=4.27 in /usr/local/lib/python3.7/dist-packages (from transformers) (4.62.0)\n",
            "Collecting tokenizers<0.11,>=0.10.1\n",
            "  Downloading tokenizers-0.10.3-cp37-cp37m-manylinux_2_5_x86_64.manylinux1_x86_64.manylinux_2_12_x86_64.manylinux2010_x86_64.whl (3.3 MB)\n",
            "\u001b[K     |████████████████████████████████| 3.3 MB 48.7 MB/s \n",
            "\u001b[?25hCollecting sacremoses\n",
            "  Downloading sacremoses-0.0.45-py3-none-any.whl (895 kB)\n",
            "\u001b[K     |████████████████████████████████| 895 kB 23.9 MB/s \n",
            "\u001b[?25hRequirement already satisfied: requests in /usr/local/lib/python3.7/dist-packages (from transformers) (2.23.0)\n",
            "Requirement already satisfied: importlib-metadata in /usr/local/lib/python3.7/dist-packages (from transformers) (4.6.4)\n",
            "Requirement already satisfied: typing-extensions in /usr/local/lib/python3.7/dist-packages (from huggingface-hub==0.0.12->transformers) (3.7.4.3)\n",
            "Requirement already satisfied: pyparsing>=2.0.2 in /usr/local/lib/python3.7/dist-packages (from packaging->transformers) (2.4.7)\n",
            "Requirement already satisfied: zipp>=0.5 in /usr/local/lib/python3.7/dist-packages (from importlib-metadata->transformers) (3.5.0)\n",
            "Requirement already satisfied: idna<3,>=2.5 in /usr/local/lib/python3.7/dist-packages (from requests->transformers) (2.10)\n",
            "Requirement already satisfied: certifi>=2017.4.17 in /usr/local/lib/python3.7/dist-packages (from requests->transformers) (2021.5.30)\n",
            "Requirement already satisfied: urllib3!=1.25.0,!=1.25.1,<1.26,>=1.21.1 in /usr/local/lib/python3.7/dist-packages (from requests->transformers) (1.24.3)\n",
            "Requirement already satisfied: chardet<4,>=3.0.2 in /usr/local/lib/python3.7/dist-packages (from requests->transformers) (3.0.4)\n",
            "Requirement already satisfied: click in /usr/local/lib/python3.7/dist-packages (from sacremoses->transformers) (7.1.2)\n",
            "Requirement already satisfied: joblib in /usr/local/lib/python3.7/dist-packages (from sacremoses->transformers) (1.0.1)\n",
            "Requirement already satisfied: six in /usr/local/lib/python3.7/dist-packages (from sacremoses->transformers) (1.15.0)\n",
            "Installing collected packages: tokenizers, sacremoses, pyyaml, huggingface-hub, transformers\n",
            "  Attempting uninstall: pyyaml\n",
            "    Found existing installation: PyYAML 3.13\n",
            "    Uninstalling PyYAML-3.13:\n",
            "      Successfully uninstalled PyYAML-3.13\n",
            "Successfully installed huggingface-hub-0.0.12 pyyaml-5.4.1 sacremoses-0.0.45 tokenizers-0.10.3 transformers-4.9.2\n"
          ],
          "name": "stdout"
        }
      ]
    },
    {
      "cell_type": "code",
      "metadata": {
        "id": "WTRDunDQ-zE4",
        "colab": {
          "base_uri": "https://localhost:8080/",
          "height": 237,
          "referenced_widgets": [
            "2f9533a3b19b454e9bcee4c956f90808",
            "17406bca797c486685dc7cb609f808d5",
            "7a30410701a043598dae0275eeee40b2",
            "352025c619ec490384554de537bd7ae9",
            "aaca9bc156cc44adb754c8249d8a5e0c",
            "323a22af77974c9280d9186b2b3f423d",
            "e08f62b127f746c396c6d2cb523f9f3e",
            "7487df1fc00c4343b9673c2ba9403922",
            "811ef7b6f1284c0a8267459da8e65014",
            "deb73badce0c4ba9bb2277e3ab8e5f07",
            "5e33381805f14cab9296b33a0aacf3a6",
            "6b6436ba713b40feb4745ad7d21e355d",
            "e15cf8b07ef047b68b0c5bbf34f67401",
            "63eac1702282457aac563c0fa15adfe0",
            "ae60e69ec6184191b334058500992629",
            "825f436b16c04711841a78bc1395cafd",
            "2aae408ec009450f8ef60932e825857f",
            "733e7854cd2a4a029152095170b2e371",
            "edc05d4ea403493ba0e08b9d197fda4b",
            "45b112baed0a4f5eaac46a92fde97777",
            "873ad8e834594d01973233cb485c2081",
            "2fc3a629729145879904274b3ca663c1",
            "c1b947f0448f49b1bf067e8e85fda073",
            "7ba9a06be2a0450dbe3656eab7e8387e",
            "fd7fe0b09bcc4a48a96c4844d1c95f40",
            "edb7907ee4094699a34a75c6dfc5a05c",
            "88eb7fce400146e5a9eb12791c791666",
            "1ad67da0516b4fec911c1f04512b8815",
            "43a552a37c4742d7b47a6e9bf4e55e59",
            "22e306cf36944645a1a46c251c4ba3a6",
            "df0db3ab43dc4f2489a2c82cdb40f03a",
            "eda59eccf1434fe289eb8df38e045afe",
            "b4f4c80f50584a25b729bdb4efd43ab7",
            "11d8f6addf3b4e4da2103d6595b712e6",
            "967f34f9dffc4d7ca3046f8a215a9567",
            "ac691adc75d044f9b3362fe5cd41a522",
            "110a48815d2d422dbbb9ea89588a6d3b",
            "1a785bc3a036425c8d58cf933e5863cc",
            "5271c02905e84abd8515e42514e9012f",
            "b61cab81f0ed4a21a701bf9d0a48220a",
            "5a42aa904dc84489b1de14b932fa5079",
            "395e4bcb4bd3474fadc766d648208089",
            "88429e84db7b459b9c4d87bc6d9187af",
            "87140d11b31847628d93cc59f0e5ed1f"
          ]
        },
        "outputId": "bcf1c524-729f-4372-e4b7-2f97a4883adb"
      },
      "source": [
        "from transformers import BertTokenizer, BertForSequenceClassification, AdamW\n",
        "\n",
        "tokenizer = BertTokenizer.from_pretrained('bert-base-chinese')\n",
        "\n",
        "print(X[2])\n",
        "print(tokenizer.tokenize(X[2]))\n",
        "print(tokenizer.encode(X[2]))\n",
        "print(tokenizer.convert_ids_to_tokens(tokenizer.encode(X[2])))"
      ],
      "id": "WTRDunDQ-zE4",
      "execution_count": 27,
      "outputs": [
        {
          "output_type": "display_data",
          "data": {
            "application/vnd.jupyter.widget-view+json": {
              "model_id": "2f9533a3b19b454e9bcee4c956f90808",
              "version_minor": 0,
              "version_major": 2
            },
            "text/plain": [
              "Downloading:   0%|          | 0.00/110k [00:00<?, ?B/s]"
            ]
          },
          "metadata": {}
        },
        {
          "output_type": "display_data",
          "data": {
            "application/vnd.jupyter.widget-view+json": {
              "model_id": "6b6436ba713b40feb4745ad7d21e355d",
              "version_minor": 0,
              "version_major": 2
            },
            "text/plain": [
              "Downloading:   0%|          | 0.00/29.0 [00:00<?, ?B/s]"
            ]
          },
          "metadata": {}
        },
        {
          "output_type": "display_data",
          "data": {
            "application/vnd.jupyter.widget-view+json": {
              "model_id": "c1b947f0448f49b1bf067e8e85fda073",
              "version_minor": 0,
              "version_major": 2
            },
            "text/plain": [
              "Downloading:   0%|          | 0.00/269k [00:00<?, ?B/s]"
            ]
          },
          "metadata": {}
        },
        {
          "output_type": "display_data",
          "data": {
            "application/vnd.jupyter.widget-view+json": {
              "model_id": "11d8f6addf3b4e4da2103d6595b712e6",
              "version_minor": 0,
              "version_major": 2
            },
            "text/plain": [
              "Downloading:   0%|          | 0.00/624 [00:00<?, ?B/s]"
            ]
          },
          "metadata": {}
        },
        {
          "output_type": "stream",
          "text": [
            "报告期内，公司投资规模增加，投资结构得到优化。\n",
            "['报', '告', '期', '内', '，', '公', '司', '投', '资', '规', '模', '增', '加', '，', '投', '资', '结', '构', '得', '到', '优', '化', '。']\n",
            "[101, 2845, 1440, 3309, 1079, 8024, 1062, 1385, 2832, 6598, 6226, 3563, 1872, 1217, 8024, 2832, 6598, 5310, 3354, 2533, 1168, 831, 1265, 511, 102]\n",
            "['[CLS]', '报', '告', '期', '内', '，', '公', '司', '投', '资', '规', '模', '增', '加', '，', '投', '资', '结', '构', '得', '到', '优', '化', '。', '[SEP]']\n"
          ],
          "name": "stdout"
        }
      ]
    },
    {
      "cell_type": "code",
      "metadata": {
        "id": "13BuRGE23jRx",
        "colab": {
          "base_uri": "https://localhost:8080/"
        },
        "outputId": "380ca7e8-bb74-4aff-dc79-568bed320f4d"
      },
      "source": [
        "# Encode\n",
        "encoded_sentences = [tokenizer.encode(sent, add_special_tokens=True) for sent in X]\n",
        "\n",
        "# Find the maximum length\n",
        "max_len = max([len(sent) for sent in encoded_sentences])\n",
        "print('Max length: ', max_len)"
      ],
      "id": "13BuRGE23jRx",
      "execution_count": 28,
      "outputs": [
        {
          "output_type": "stream",
          "text": [
            "Token indices sequence length is longer than the specified maximum sequence length for this model (671 > 512). Running this sequence through the model will result in indexing errors\n"
          ],
          "name": "stderr"
        },
        {
          "output_type": "stream",
          "text": [
            "Max length:  671\n"
          ],
          "name": "stdout"
        }
      ]
    },
    {
      "cell_type": "code",
      "metadata": {
        "id": "iD0jdMtDItv7",
        "colab": {
          "base_uri": "https://localhost:8080/"
        },
        "outputId": "44514bb1-209c-4fbd-ab07-465793d2ab51"
      },
      "source": [
        "encoded_sentences = [tokenizer.encode(sent, add_special_tokens=True) for sent in X]\n",
        "\n",
        "sent_length = []\n",
        "\n",
        "for sent in encoded_sentences:\n",
        "  sent_length.append(len(sent))\n",
        "\n",
        "pd.Series(sent_length).describe(percentiles=[.95])"
      ],
      "id": "iD0jdMtDItv7",
      "execution_count": 29,
      "outputs": [
        {
          "output_type": "execute_result",
          "data": {
            "text/plain": [
              "count    10000.000000\n",
              "mean        60.384500\n",
              "std         37.125979\n",
              "min          6.000000\n",
              "50%         52.000000\n",
              "95%        128.000000\n",
              "max        671.000000\n",
              "dtype: float64"
            ]
          },
          "metadata": {},
          "execution_count": 29
        }
      ]
    },
    {
      "cell_type": "code",
      "metadata": {
        "id": "negative-billy",
        "colab": {
          "base_uri": "https://localhost:8080/"
        },
        "outputId": "f560397c-cc84-492d-c722-86d9b7ab4f9d"
      },
      "source": [
        "def convert_text_to_token(tokenizer, sentence, limit_size = 130): # around 95% amoung the length\n",
        "    \n",
        "    tokens = tokenizer.encode(sentence[:limit_size])       \n",
        "    if len(tokens) < limit_size + 2:              #padding\n",
        "        tokens.extend([0] * (limit_size + 2 - len(tokens)))\n",
        "    return tokens\n",
        " \n",
        "input_ids = [convert_text_to_token(tokenizer, sen) for sen in X]\n",
        " \n",
        "input_tokens = torch.tensor(input_ids)\n",
        "print(input_tokens.shape) \n",
        "print(input_tokens)"
      ],
      "id": "negative-billy",
      "execution_count": 30,
      "outputs": [
        {
          "output_type": "stream",
          "text": [
            "torch.Size([10000, 132])\n",
            "tensor([[ 101, 6084, 6598,  ...,    0,    0,    0],\n",
            "        [ 101, 2832, 6598,  ...,    0,    0,    0],\n",
            "        [ 101, 2845, 1440,  ...,    0,    0,    0],\n",
            "        ...,\n",
            "        [ 101, 8285, 2399,  ...,    0,    0,    0],\n",
            "        [ 101, 2845, 1440,  ...,    0,    0,    0],\n",
            "        [ 101, 1062, 1385,  ...,    0,    0,    0]])\n"
          ],
          "name": "stdout"
        }
      ]
    },
    {
      "cell_type": "code",
      "metadata": {
        "id": "material-surgeon",
        "colab": {
          "base_uri": "https://localhost:8080/"
        },
        "outputId": "409efc7f-a961-4e93-a840-026645cae5f3"
      },
      "source": [
        "\n",
        "def attention_masks(input_ids):\n",
        "    atten_masks = []\n",
        "    for seq in input_ids:                       \n",
        "        seq_mask = [float(i > 0) for i in seq]  \n",
        "        atten_masks.append(seq_mask)\n",
        "    return atten_masks\n",
        " \n",
        "atten_masks = attention_masks(input_ids)\n",
        "attention_tokens = torch.tensor(atten_masks)\n",
        "print(attention_tokens.shape)      \n",
        "print(attention_tokens)             "
      ],
      "id": "material-surgeon",
      "execution_count": 31,
      "outputs": [
        {
          "output_type": "stream",
          "text": [
            "torch.Size([10000, 132])\n",
            "tensor([[1., 1., 1.,  ..., 0., 0., 0.],\n",
            "        [1., 1., 1.,  ..., 0., 0., 0.],\n",
            "        [1., 1., 1.,  ..., 0., 0., 0.],\n",
            "        ...,\n",
            "        [1., 1., 1.,  ..., 0., 0., 0.],\n",
            "        [1., 1., 1.,  ..., 0., 0., 0.],\n",
            "        [1., 1., 1.,  ..., 0., 0., 0.]])\n"
          ],
          "name": "stdout"
        }
      ]
    },
    {
      "cell_type": "code",
      "metadata": {
        "id": "fLHcy82GrJt3",
        "colab": {
          "base_uri": "https://localhost:8080/"
        },
        "outputId": "484dfdea-33ee-40a6-d870-8986e61fc02a"
      },
      "source": [
        "from sklearn.model_selection import train_test_split\n",
        " \n",
        "train_inputs1, test_inputs, train_labels, test_labels = train_test_split(input_tokens, total_targets, random_state = 2, test_size = 0.2)\n",
        "train_masks, test_masks, _, _ = train_test_split(attention_tokens, input_tokens, random_state = 2, test_size = 0.2)\n",
        "\n",
        "train_inputs, val_inputs, train_labels, val_labels = train_test_split(train_inputs1, train_labels, random_state = 2, test_size = 0.2)\n",
        "train_masks, val_masks, _, _ = train_test_split(train_masks, train_inputs1, random_state = 2, test_size = 0.2)\n",
        "\n",
        "print(train_inputs.shape, val_inputs.shape)      \n",
        "print(train_masks.shape)                          \n",
        " "
      ],
      "id": "fLHcy82GrJt3",
      "execution_count": 32,
      "outputs": [
        {
          "output_type": "stream",
          "text": [
            "torch.Size([6400, 132]) torch.Size([1600, 132])\n",
            "torch.Size([6400, 132])\n"
          ],
          "name": "stdout"
        }
      ]
    },
    {
      "cell_type": "markdown",
      "metadata": {
        "id": "unable-reunion"
      },
      "source": [
        "#### Create DataLoader"
      ],
      "id": "unable-reunion"
    },
    {
      "cell_type": "code",
      "metadata": {
        "id": "checked-support"
      },
      "source": [
        "train_data = TensorDataset(train_inputs, train_masks, train_labels)\n",
        "train_sampler = RandomSampler(train_data)\n",
        "train_dataloader = DataLoader(train_data, sampler = train_sampler, batch_size = batch_size)\n",
        "\n",
        "val_data = TensorDataset(val_inputs, val_masks, val_labels)\n",
        "val_sampler = RandomSampler(val_data)\n",
        "val_dataloader = DataLoader(val_data, sampler = val_sampler, batch_size = batch_size)\n",
        "\n",
        "test_data = TensorDataset(test_inputs, test_masks, test_labels)\n",
        "test_sampler = RandomSampler(test_data)\n",
        "test_dataloader = DataLoader(test_data, sampler = test_sampler, batch_size = batch_size)"
      ],
      "id": "checked-support",
      "execution_count": 33,
      "outputs": []
    },
    {
      "cell_type": "code",
      "metadata": {
        "id": "square-recommendation",
        "colab": {
          "base_uri": "https://localhost:8080/"
        },
        "outputId": "9e527ef7-552f-4f93-d5d7-9338475157fb"
      },
      "source": [
        "for i, (train, mask, label) in enumerate(train_dataloader): \n",
        "    print(train.shape, mask.shape, label.shape)\n",
        "    break\n",
        "\n",
        "print('len(train_dataloader) = ', len(train_dataloader))"
      ],
      "id": "square-recommendation",
      "execution_count": 34,
      "outputs": [
        {
          "output_type": "stream",
          "text": [
            "torch.Size([16, 132]) torch.Size([16, 132]) torch.Size([16, 1])\n",
            "len(train_dataloader) =  400\n"
          ],
          "name": "stdout"
        }
      ]
    },
    {
      "cell_type": "markdown",
      "metadata": {
        "id": "ExxVnn95h4ig"
      },
      "source": [
        "#### Define useful functions"
      ],
      "id": "ExxVnn95h4ig"
    },
    {
      "cell_type": "code",
      "metadata": {
        "id": "widespread-plant"
      },
      "source": [
        "\n",
        "\n",
        "def binary_acc(preds, labels):\n",
        "    correct = torch.eq(torch.max(preds, dim=1)[1], labels.flatten()).float()\n",
        "    acc = correct.sum().item() / len(correct)\n",
        "    return acc"
      ],
      "id": "widespread-plant",
      "execution_count": 35,
      "outputs": []
    },
    {
      "cell_type": "code",
      "metadata": {
        "id": "overall-nelson"
      },
      "source": [
        "\n",
        "\n",
        "import time\n",
        "import datetime\n",
        " \n",
        "def format_time(elapsed):\n",
        "    elapsed_rounded = int(round(elapsed))\n",
        "    return str(datetime.timedelta(seconds = elapsed_rounded)) "
      ],
      "id": "overall-nelson",
      "execution_count": 36,
      "outputs": []
    },
    {
      "cell_type": "code",
      "metadata": {
        "id": "banned-norway"
      },
      "source": [
        "def train(model, optimizer):\n",
        "    \n",
        "    t0 = time.time()\n",
        "    avg_loss, avg_acc, train_logits = [],[],[]\n",
        "\n",
        "    model.train()\n",
        "    for step, batch in enumerate(train_dataloader):\n",
        "\n",
        "        # print every 40 batches\n",
        "        if step % 40 == 0 and not step == 0:\n",
        "            elapsed = format_time(time.time() - t0)\n",
        "            print('  Batch {:>5,}  of  {:>5,}.    Elapsed: {:}.'.format(step, len(train_dataloader), elapsed))\n",
        "\n",
        "        b_input_ids, b_input_mask, b_labels = batch[0].long().to(device), batch[1].long().to(device), batch[2].long().to(device)\n",
        "\n",
        "        output = model(b_input_ids, token_type_ids = None, attention_mask = b_input_mask, labels = b_labels)\n",
        "        loss, logits = output[0], output[1]\n",
        "\n",
        "        avg_loss.append(loss.item())\n",
        "        train_logits.append(logits)\n",
        "\n",
        "        acc = binary_acc(logits, b_labels)\n",
        "        avg_acc.append(acc)\n",
        "\n",
        "        optimizer.zero_grad()\n",
        "        loss.backward()\n",
        "        clip_grad_norm_(model.parameters(), 1.0)      \n",
        "        optimizer.step()              \n",
        "        scheduler.step()              \n",
        "\n",
        "    avg_acc = np.array(avg_acc).mean()\n",
        "    avg_loss = np.array(avg_loss).mean()\n",
        "    \n",
        "    return avg_loss, avg_acc, train_logits"
      ],
      "id": "banned-norway",
      "execution_count": 37,
      "outputs": []
    },
    {
      "cell_type": "code",
      "metadata": {
        "id": "incredible-pavilion"
      },
      "source": [
        "def evaluate(model):\n",
        "    \n",
        "    avg_acc, val_logits, val_y = [],[],[]\n",
        "    model.eval()        \n",
        "\n",
        "    with torch.no_grad():\n",
        "        for batch in val_dataloader: \n",
        "            b_input_ids, b_input_mask, b_labels = batch[0].long().to(device), batch[1].long().to(device), batch[2].long().to(device)\n",
        "\n",
        "            val_y.append(b_labels)\n",
        "\n",
        "            output = model(b_input_ids, token_type_ids=None, attention_mask=b_input_mask)\n",
        "\n",
        "            val_logits.append(output[0])\n",
        "            # output[0]: logits\n",
        "\n",
        "            acc = binary_acc(output[0], b_labels)\n",
        "            avg_acc.append(acc)\n",
        "\n",
        "    avg_acc = np.array(avg_acc).mean()\n",
        "    \n",
        "    return avg_acc, val_logits, val_y"
      ],
      "id": "incredible-pavilion",
      "execution_count": 38,
      "outputs": []
    },
    {
      "cell_type": "code",
      "metadata": {
        "id": "1X9B6RzBVfC9"
      },
      "source": [
        "def prediction(model, test_dataloader):\n",
        "  test_acc, test_logits, test_y = [],[],[]\n",
        "  model.eval()       \n",
        "\n",
        "  with torch.no_grad():\n",
        "    for batch in test_dataloader: \n",
        "        b_input_ids, b_input_mask, b_labels = batch[0].long().to(device), batch[1].long().to(device), batch[2].long().to(device)\n",
        "\n",
        "        test_y.append(b_labels)\n",
        "\n",
        "        output = model(b_input_ids, token_type_ids=None, attention_mask=b_input_mask)\n",
        "\n",
        "        test_logits.append(output[0])\n",
        "\n",
        "        acc = binary_acc(output[0], b_labels)\n",
        "        test_acc.append(acc)\n",
        "\n",
        "    #avg_test_acc = np.array(test_acc).mean()\n",
        "\n",
        "    pred_list_test = []\n",
        "\n",
        "    for tensori in test_logits:\n",
        "      pred_list_test.extend(torch.max(tensori, dim = 1)[1].cpu().numpy().tolist())\n",
        "\n",
        "\n",
        "    true_list_test = []\n",
        "\n",
        "    for tensori in test_y:\n",
        "      true_list_test.extend(tensori.flatten().cpu().numpy().tolist())\n",
        "    \n",
        "    test_acc_bert = metrics.accuracy_score(pred_list_test, true_list_test)\n",
        "    test_f1_micro_bert = metrics.f1_score(pred_list_test, true_list_test, average = 'micro')\n",
        "    test_f1_macro_bert = metrics.f1_score(pred_list_test, true_list_test, average = 'macro')\n",
        "    test_kappa_bert = metrics.cohen_kappa_score(pred_list_test, true_list_test)\n",
        "\n",
        "    print('BERT test accuracy %s' % test_acc_bert)\n",
        "    print('BERT test F1 score %s' % test_f1_macro_bert)\n"
      ],
      "id": "1X9B6RzBVfC9",
      "execution_count": 39,
      "outputs": []
    },
    {
      "cell_type": "markdown",
      "metadata": {
        "id": "seventh-scotland"
      },
      "source": [
        "#### Create model and optimizer"
      ],
      "id": "seventh-scotland"
    },
    {
      "cell_type": "code",
      "metadata": {
        "id": "mT6TBJ7uAoas",
        "colab": {
          "base_uri": "https://localhost:8080/"
        },
        "outputId": "bb60839a-8bd7-4785-9267-fb3172f5f655"
      },
      "source": [
        "# loading the finbert model\n",
        "# the pytorch model can be downloaded at https://github.com/valuesimplex/FinBERT\n",
        "\n",
        "from transformers import BertModel,BertTokenizer\n",
        "\n",
        "BERT_PATH = '/content/drive/MyDrive/Finbert' # subject to the location\n",
        "\n",
        "tokenizer = BertTokenizer.from_pretrained(BERT_PATH)\n",
        "\n",
        "\n",
        "print(tokenizer.tokenize('I have a good time, thank you.'))\n",
        "\n",
        "model = BertModel.from_pretrained(BERT_PATH)\n",
        "\n",
        "print('load bert model over')"
      ],
      "id": "mT6TBJ7uAoas",
      "execution_count": 40,
      "outputs": [
        {
          "output_type": "stream",
          "text": [
            "['i', 'have', 'a', 'good', 'time', ',', 'than', '##k', 'you', '.']\n"
          ],
          "name": "stdout"
        },
        {
          "output_type": "stream",
          "text": [
            "Some weights of the model checkpoint at /content/drive/MyDrive/Finbert were not used when initializing BertModel: ['cls.predictions.bias', 'cls.seq_relationship.weight', 'cls.predictions.decoder.weight', 'cls.predictions.transform.LayerNorm.weight', 'cls.predictions.transform.LayerNorm.bias', 'cls.predictions.transform.dense.bias', 'cls.seq_relationship.bias', 'cls.predictions.transform.dense.weight']\n",
            "- This IS expected if you are initializing BertModel from the checkpoint of a model trained on another task or with another architecture (e.g. initializing a BertForSequenceClassification model from a BertForPreTraining model).\n",
            "- This IS NOT expected if you are initializing BertModel from the checkpoint of a model that you expect to be exactly identical (initializing a BertForSequenceClassification model from a BertForSequenceClassification model).\n"
          ],
          "name": "stderr"
        },
        {
          "output_type": "stream",
          "text": [
            "load bert model over\n"
          ],
          "name": "stdout"
        }
      ]
    },
    {
      "cell_type": "code",
      "metadata": {
        "id": "bearing-marsh"
      },
      "source": [
        "# the base bert model, uncomment to use\n",
        "\n",
        "#model = BertForSequenceClassification.from_pretrained('bert-base-chinese', num_labels = 3) \n",
        "\n",
        "#model.to(device)"
      ],
      "id": "bearing-marsh",
      "execution_count": 41,
      "outputs": []
    },
    {
      "cell_type": "code",
      "metadata": {
        "id": "kk-eaxPokP7M",
        "colab": {
          "base_uri": "https://localhost:8080/"
        },
        "outputId": "ae95a3a8-80d8-4637-cbaa-fee202ab8faa"
      },
      "source": [
        "model = BertForSequenceClassification.from_pretrained(BERT_PATH,  num_labels = 3) \n",
        "\n",
        "model.to(device)"
      ],
      "id": "kk-eaxPokP7M",
      "execution_count": 42,
      "outputs": [
        {
          "output_type": "stream",
          "text": [
            "Some weights of the model checkpoint at /content/drive/MyDrive/Finbert were not used when initializing BertForSequenceClassification: ['cls.predictions.bias', 'cls.seq_relationship.weight', 'cls.predictions.decoder.weight', 'cls.predictions.transform.LayerNorm.weight', 'cls.predictions.transform.LayerNorm.bias', 'cls.predictions.transform.dense.bias', 'cls.seq_relationship.bias', 'cls.predictions.transform.dense.weight']\n",
            "- This IS expected if you are initializing BertForSequenceClassification from the checkpoint of a model trained on another task or with another architecture (e.g. initializing a BertForSequenceClassification model from a BertForPreTraining model).\n",
            "- This IS NOT expected if you are initializing BertForSequenceClassification from the checkpoint of a model that you expect to be exactly identical (initializing a BertForSequenceClassification model from a BertForSequenceClassification model).\n",
            "Some weights of BertForSequenceClassification were not initialized from the model checkpoint at /content/drive/MyDrive/Finbert and are newly initialized: ['classifier.weight', 'classifier.bias']\n",
            "You should probably TRAIN this model on a down-stream task to be able to use it for predictions and inference.\n"
          ],
          "name": "stderr"
        },
        {
          "output_type": "execute_result",
          "data": {
            "text/plain": [
              "BertForSequenceClassification(\n",
              "  (bert): BertModel(\n",
              "    (embeddings): BertEmbeddings(\n",
              "      (word_embeddings): Embedding(21128, 768, padding_idx=0)\n",
              "      (position_embeddings): Embedding(512, 768)\n",
              "      (token_type_embeddings): Embedding(2, 768)\n",
              "      (LayerNorm): LayerNorm((768,), eps=1e-12, elementwise_affine=True)\n",
              "      (dropout): Dropout(p=0.1, inplace=False)\n",
              "    )\n",
              "    (encoder): BertEncoder(\n",
              "      (layer): ModuleList(\n",
              "        (0): BertLayer(\n",
              "          (attention): BertAttention(\n",
              "            (self): BertSelfAttention(\n",
              "              (query): Linear(in_features=768, out_features=768, bias=True)\n",
              "              (key): Linear(in_features=768, out_features=768, bias=True)\n",
              "              (value): Linear(in_features=768, out_features=768, bias=True)\n",
              "              (dropout): Dropout(p=0.1, inplace=False)\n",
              "            )\n",
              "            (output): BertSelfOutput(\n",
              "              (dense): Linear(in_features=768, out_features=768, bias=True)\n",
              "              (LayerNorm): LayerNorm((768,), eps=1e-12, elementwise_affine=True)\n",
              "              (dropout): Dropout(p=0.1, inplace=False)\n",
              "            )\n",
              "          )\n",
              "          (intermediate): BertIntermediate(\n",
              "            (dense): Linear(in_features=768, out_features=3072, bias=True)\n",
              "          )\n",
              "          (output): BertOutput(\n",
              "            (dense): Linear(in_features=3072, out_features=768, bias=True)\n",
              "            (LayerNorm): LayerNorm((768,), eps=1e-12, elementwise_affine=True)\n",
              "            (dropout): Dropout(p=0.1, inplace=False)\n",
              "          )\n",
              "        )\n",
              "        (1): BertLayer(\n",
              "          (attention): BertAttention(\n",
              "            (self): BertSelfAttention(\n",
              "              (query): Linear(in_features=768, out_features=768, bias=True)\n",
              "              (key): Linear(in_features=768, out_features=768, bias=True)\n",
              "              (value): Linear(in_features=768, out_features=768, bias=True)\n",
              "              (dropout): Dropout(p=0.1, inplace=False)\n",
              "            )\n",
              "            (output): BertSelfOutput(\n",
              "              (dense): Linear(in_features=768, out_features=768, bias=True)\n",
              "              (LayerNorm): LayerNorm((768,), eps=1e-12, elementwise_affine=True)\n",
              "              (dropout): Dropout(p=0.1, inplace=False)\n",
              "            )\n",
              "          )\n",
              "          (intermediate): BertIntermediate(\n",
              "            (dense): Linear(in_features=768, out_features=3072, bias=True)\n",
              "          )\n",
              "          (output): BertOutput(\n",
              "            (dense): Linear(in_features=3072, out_features=768, bias=True)\n",
              "            (LayerNorm): LayerNorm((768,), eps=1e-12, elementwise_affine=True)\n",
              "            (dropout): Dropout(p=0.1, inplace=False)\n",
              "          )\n",
              "        )\n",
              "        (2): BertLayer(\n",
              "          (attention): BertAttention(\n",
              "            (self): BertSelfAttention(\n",
              "              (query): Linear(in_features=768, out_features=768, bias=True)\n",
              "              (key): Linear(in_features=768, out_features=768, bias=True)\n",
              "              (value): Linear(in_features=768, out_features=768, bias=True)\n",
              "              (dropout): Dropout(p=0.1, inplace=False)\n",
              "            )\n",
              "            (output): BertSelfOutput(\n",
              "              (dense): Linear(in_features=768, out_features=768, bias=True)\n",
              "              (LayerNorm): LayerNorm((768,), eps=1e-12, elementwise_affine=True)\n",
              "              (dropout): Dropout(p=0.1, inplace=False)\n",
              "            )\n",
              "          )\n",
              "          (intermediate): BertIntermediate(\n",
              "            (dense): Linear(in_features=768, out_features=3072, bias=True)\n",
              "          )\n",
              "          (output): BertOutput(\n",
              "            (dense): Linear(in_features=3072, out_features=768, bias=True)\n",
              "            (LayerNorm): LayerNorm((768,), eps=1e-12, elementwise_affine=True)\n",
              "            (dropout): Dropout(p=0.1, inplace=False)\n",
              "          )\n",
              "        )\n",
              "        (3): BertLayer(\n",
              "          (attention): BertAttention(\n",
              "            (self): BertSelfAttention(\n",
              "              (query): Linear(in_features=768, out_features=768, bias=True)\n",
              "              (key): Linear(in_features=768, out_features=768, bias=True)\n",
              "              (value): Linear(in_features=768, out_features=768, bias=True)\n",
              "              (dropout): Dropout(p=0.1, inplace=False)\n",
              "            )\n",
              "            (output): BertSelfOutput(\n",
              "              (dense): Linear(in_features=768, out_features=768, bias=True)\n",
              "              (LayerNorm): LayerNorm((768,), eps=1e-12, elementwise_affine=True)\n",
              "              (dropout): Dropout(p=0.1, inplace=False)\n",
              "            )\n",
              "          )\n",
              "          (intermediate): BertIntermediate(\n",
              "            (dense): Linear(in_features=768, out_features=3072, bias=True)\n",
              "          )\n",
              "          (output): BertOutput(\n",
              "            (dense): Linear(in_features=3072, out_features=768, bias=True)\n",
              "            (LayerNorm): LayerNorm((768,), eps=1e-12, elementwise_affine=True)\n",
              "            (dropout): Dropout(p=0.1, inplace=False)\n",
              "          )\n",
              "        )\n",
              "        (4): BertLayer(\n",
              "          (attention): BertAttention(\n",
              "            (self): BertSelfAttention(\n",
              "              (query): Linear(in_features=768, out_features=768, bias=True)\n",
              "              (key): Linear(in_features=768, out_features=768, bias=True)\n",
              "              (value): Linear(in_features=768, out_features=768, bias=True)\n",
              "              (dropout): Dropout(p=0.1, inplace=False)\n",
              "            )\n",
              "            (output): BertSelfOutput(\n",
              "              (dense): Linear(in_features=768, out_features=768, bias=True)\n",
              "              (LayerNorm): LayerNorm((768,), eps=1e-12, elementwise_affine=True)\n",
              "              (dropout): Dropout(p=0.1, inplace=False)\n",
              "            )\n",
              "          )\n",
              "          (intermediate): BertIntermediate(\n",
              "            (dense): Linear(in_features=768, out_features=3072, bias=True)\n",
              "          )\n",
              "          (output): BertOutput(\n",
              "            (dense): Linear(in_features=3072, out_features=768, bias=True)\n",
              "            (LayerNorm): LayerNorm((768,), eps=1e-12, elementwise_affine=True)\n",
              "            (dropout): Dropout(p=0.1, inplace=False)\n",
              "          )\n",
              "        )\n",
              "        (5): BertLayer(\n",
              "          (attention): BertAttention(\n",
              "            (self): BertSelfAttention(\n",
              "              (query): Linear(in_features=768, out_features=768, bias=True)\n",
              "              (key): Linear(in_features=768, out_features=768, bias=True)\n",
              "              (value): Linear(in_features=768, out_features=768, bias=True)\n",
              "              (dropout): Dropout(p=0.1, inplace=False)\n",
              "            )\n",
              "            (output): BertSelfOutput(\n",
              "              (dense): Linear(in_features=768, out_features=768, bias=True)\n",
              "              (LayerNorm): LayerNorm((768,), eps=1e-12, elementwise_affine=True)\n",
              "              (dropout): Dropout(p=0.1, inplace=False)\n",
              "            )\n",
              "          )\n",
              "          (intermediate): BertIntermediate(\n",
              "            (dense): Linear(in_features=768, out_features=3072, bias=True)\n",
              "          )\n",
              "          (output): BertOutput(\n",
              "            (dense): Linear(in_features=3072, out_features=768, bias=True)\n",
              "            (LayerNorm): LayerNorm((768,), eps=1e-12, elementwise_affine=True)\n",
              "            (dropout): Dropout(p=0.1, inplace=False)\n",
              "          )\n",
              "        )\n",
              "        (6): BertLayer(\n",
              "          (attention): BertAttention(\n",
              "            (self): BertSelfAttention(\n",
              "              (query): Linear(in_features=768, out_features=768, bias=True)\n",
              "              (key): Linear(in_features=768, out_features=768, bias=True)\n",
              "              (value): Linear(in_features=768, out_features=768, bias=True)\n",
              "              (dropout): Dropout(p=0.1, inplace=False)\n",
              "            )\n",
              "            (output): BertSelfOutput(\n",
              "              (dense): Linear(in_features=768, out_features=768, bias=True)\n",
              "              (LayerNorm): LayerNorm((768,), eps=1e-12, elementwise_affine=True)\n",
              "              (dropout): Dropout(p=0.1, inplace=False)\n",
              "            )\n",
              "          )\n",
              "          (intermediate): BertIntermediate(\n",
              "            (dense): Linear(in_features=768, out_features=3072, bias=True)\n",
              "          )\n",
              "          (output): BertOutput(\n",
              "            (dense): Linear(in_features=3072, out_features=768, bias=True)\n",
              "            (LayerNorm): LayerNorm((768,), eps=1e-12, elementwise_affine=True)\n",
              "            (dropout): Dropout(p=0.1, inplace=False)\n",
              "          )\n",
              "        )\n",
              "        (7): BertLayer(\n",
              "          (attention): BertAttention(\n",
              "            (self): BertSelfAttention(\n",
              "              (query): Linear(in_features=768, out_features=768, bias=True)\n",
              "              (key): Linear(in_features=768, out_features=768, bias=True)\n",
              "              (value): Linear(in_features=768, out_features=768, bias=True)\n",
              "              (dropout): Dropout(p=0.1, inplace=False)\n",
              "            )\n",
              "            (output): BertSelfOutput(\n",
              "              (dense): Linear(in_features=768, out_features=768, bias=True)\n",
              "              (LayerNorm): LayerNorm((768,), eps=1e-12, elementwise_affine=True)\n",
              "              (dropout): Dropout(p=0.1, inplace=False)\n",
              "            )\n",
              "          )\n",
              "          (intermediate): BertIntermediate(\n",
              "            (dense): Linear(in_features=768, out_features=3072, bias=True)\n",
              "          )\n",
              "          (output): BertOutput(\n",
              "            (dense): Linear(in_features=3072, out_features=768, bias=True)\n",
              "            (LayerNorm): LayerNorm((768,), eps=1e-12, elementwise_affine=True)\n",
              "            (dropout): Dropout(p=0.1, inplace=False)\n",
              "          )\n",
              "        )\n",
              "        (8): BertLayer(\n",
              "          (attention): BertAttention(\n",
              "            (self): BertSelfAttention(\n",
              "              (query): Linear(in_features=768, out_features=768, bias=True)\n",
              "              (key): Linear(in_features=768, out_features=768, bias=True)\n",
              "              (value): Linear(in_features=768, out_features=768, bias=True)\n",
              "              (dropout): Dropout(p=0.1, inplace=False)\n",
              "            )\n",
              "            (output): BertSelfOutput(\n",
              "              (dense): Linear(in_features=768, out_features=768, bias=True)\n",
              "              (LayerNorm): LayerNorm((768,), eps=1e-12, elementwise_affine=True)\n",
              "              (dropout): Dropout(p=0.1, inplace=False)\n",
              "            )\n",
              "          )\n",
              "          (intermediate): BertIntermediate(\n",
              "            (dense): Linear(in_features=768, out_features=3072, bias=True)\n",
              "          )\n",
              "          (output): BertOutput(\n",
              "            (dense): Linear(in_features=3072, out_features=768, bias=True)\n",
              "            (LayerNorm): LayerNorm((768,), eps=1e-12, elementwise_affine=True)\n",
              "            (dropout): Dropout(p=0.1, inplace=False)\n",
              "          )\n",
              "        )\n",
              "        (9): BertLayer(\n",
              "          (attention): BertAttention(\n",
              "            (self): BertSelfAttention(\n",
              "              (query): Linear(in_features=768, out_features=768, bias=True)\n",
              "              (key): Linear(in_features=768, out_features=768, bias=True)\n",
              "              (value): Linear(in_features=768, out_features=768, bias=True)\n",
              "              (dropout): Dropout(p=0.1, inplace=False)\n",
              "            )\n",
              "            (output): BertSelfOutput(\n",
              "              (dense): Linear(in_features=768, out_features=768, bias=True)\n",
              "              (LayerNorm): LayerNorm((768,), eps=1e-12, elementwise_affine=True)\n",
              "              (dropout): Dropout(p=0.1, inplace=False)\n",
              "            )\n",
              "          )\n",
              "          (intermediate): BertIntermediate(\n",
              "            (dense): Linear(in_features=768, out_features=3072, bias=True)\n",
              "          )\n",
              "          (output): BertOutput(\n",
              "            (dense): Linear(in_features=3072, out_features=768, bias=True)\n",
              "            (LayerNorm): LayerNorm((768,), eps=1e-12, elementwise_affine=True)\n",
              "            (dropout): Dropout(p=0.1, inplace=False)\n",
              "          )\n",
              "        )\n",
              "        (10): BertLayer(\n",
              "          (attention): BertAttention(\n",
              "            (self): BertSelfAttention(\n",
              "              (query): Linear(in_features=768, out_features=768, bias=True)\n",
              "              (key): Linear(in_features=768, out_features=768, bias=True)\n",
              "              (value): Linear(in_features=768, out_features=768, bias=True)\n",
              "              (dropout): Dropout(p=0.1, inplace=False)\n",
              "            )\n",
              "            (output): BertSelfOutput(\n",
              "              (dense): Linear(in_features=768, out_features=768, bias=True)\n",
              "              (LayerNorm): LayerNorm((768,), eps=1e-12, elementwise_affine=True)\n",
              "              (dropout): Dropout(p=0.1, inplace=False)\n",
              "            )\n",
              "          )\n",
              "          (intermediate): BertIntermediate(\n",
              "            (dense): Linear(in_features=768, out_features=3072, bias=True)\n",
              "          )\n",
              "          (output): BertOutput(\n",
              "            (dense): Linear(in_features=3072, out_features=768, bias=True)\n",
              "            (LayerNorm): LayerNorm((768,), eps=1e-12, elementwise_affine=True)\n",
              "            (dropout): Dropout(p=0.1, inplace=False)\n",
              "          )\n",
              "        )\n",
              "        (11): BertLayer(\n",
              "          (attention): BertAttention(\n",
              "            (self): BertSelfAttention(\n",
              "              (query): Linear(in_features=768, out_features=768, bias=True)\n",
              "              (key): Linear(in_features=768, out_features=768, bias=True)\n",
              "              (value): Linear(in_features=768, out_features=768, bias=True)\n",
              "              (dropout): Dropout(p=0.1, inplace=False)\n",
              "            )\n",
              "            (output): BertSelfOutput(\n",
              "              (dense): Linear(in_features=768, out_features=768, bias=True)\n",
              "              (LayerNorm): LayerNorm((768,), eps=1e-12, elementwise_affine=True)\n",
              "              (dropout): Dropout(p=0.1, inplace=False)\n",
              "            )\n",
              "          )\n",
              "          (intermediate): BertIntermediate(\n",
              "            (dense): Linear(in_features=768, out_features=3072, bias=True)\n",
              "          )\n",
              "          (output): BertOutput(\n",
              "            (dense): Linear(in_features=3072, out_features=768, bias=True)\n",
              "            (LayerNorm): LayerNorm((768,), eps=1e-12, elementwise_affine=True)\n",
              "            (dropout): Dropout(p=0.1, inplace=False)\n",
              "          )\n",
              "        )\n",
              "      )\n",
              "    )\n",
              "    (pooler): BertPooler(\n",
              "      (dense): Linear(in_features=768, out_features=768, bias=True)\n",
              "      (activation): Tanh()\n",
              "    )\n",
              "  )\n",
              "  (dropout): Dropout(p=0.1, inplace=False)\n",
              "  (classifier): Linear(in_features=768, out_features=3, bias=True)\n",
              ")"
            ]
          },
          "metadata": {},
          "execution_count": 42
        }
      ]
    },
    {
      "cell_type": "code",
      "metadata": {
        "id": "educated-upset"
      },
      "source": [
        "# the optimizer\n",
        "no_decay = ['bias', 'LayerNorm.weight']\n",
        "optimizer_grouped_parameters = [\n",
        "    {'params' : [p for n, p in model.named_parameters() if not any(nd in n for nd in no_decay)],\n",
        "                'weight_decay' : weight_decay},\n",
        "    {'params' : [p for n, p in model.named_parameters() if any(nd in n for nd in no_decay)],\n",
        "                'weight_decay' : 0.0}\n",
        "]\n",
        " \n",
        "optimizer = AdamW(optimizer_grouped_parameters, lr = learning_rate, eps = epsilon)"
      ],
      "id": "educated-upset",
      "execution_count": 43,
      "outputs": []
    },
    {
      "cell_type": "code",
      "metadata": {
        "id": "funded-manual"
      },
      "source": [
        "\n",
        "from transformers import get_linear_schedule_with_warmup\n",
        "\n",
        "epochs = 5 # [modify]\n",
        "\n",
        "total_steps = len(train_dataloader) * epochs\n",
        "\n",
        "scheduler = get_linear_schedule_with_warmup(optimizer, num_warmup_steps = 0, num_training_steps = total_steps)"
      ],
      "id": "funded-manual",
      "execution_count": 44,
      "outputs": []
    },
    {
      "cell_type": "markdown",
      "metadata": {
        "id": "ordinary-value"
      },
      "source": [
        "#### Train and evaluate the model  \n",
        "The logits are the output of the BERT Model before a softmax activation function is applied to the output of BERT.   \n",
        "After we pass the input encoding into the BERT Model, we can get the logits simply by specifying output.logits, which returns a tensor, and after this we can finally apply a softmax activation function to the logits. "
      ],
      "id": "ordinary-value"
    },
    {
      "cell_type": "code",
      "metadata": {
        "colab": {
          "base_uri": "https://localhost:8080/"
        },
        "id": "given-groove",
        "outputId": "2ca9755d-a951-4246-8c52-6098f8989444"
      },
      "source": [
        "epochs = 5\n",
        "train_list = []\n",
        "val_list = []\n",
        "loss_list = []\n",
        "for epoch in range(epochs):\n",
        "\n",
        "    train_loss, train_acc, train_logits = train(model, optimizer)\n",
        "    print('epoch = {}, 训练集准确率 = {}, 损失 = {}'.format(epoch, train_acc, train_loss))\n",
        "    \n",
        "    val_acc, val_logits, val_y = evaluate(model)\n",
        "    train_list.append(train_acc)\n",
        "    val_list.append(val_acc)\n",
        "    loss_list.append(train_loss)\n",
        "    print(\"epoch = {}, 验证集准确率 = {}\".format(epoch, val_acc))"
      ],
      "id": "given-groove",
      "execution_count": 45,
      "outputs": [
        {
          "output_type": "stream",
          "text": [
            "  Batch    40  of    400.    Elapsed: 0:00:09.\n",
            "  Batch    80  of    400.    Elapsed: 0:00:19.\n",
            "  Batch   120  of    400.    Elapsed: 0:00:28.\n",
            "  Batch   160  of    400.    Elapsed: 0:00:37.\n",
            "  Batch   200  of    400.    Elapsed: 0:00:46.\n",
            "  Batch   240  of    400.    Elapsed: 0:00:55.\n",
            "  Batch   280  of    400.    Elapsed: 0:01:04.\n",
            "  Batch   320  of    400.    Elapsed: 0:01:14.\n",
            "  Batch   360  of    400.    Elapsed: 0:01:23.\n",
            "epoch = 0, 训练集准确率 = 0.8759375, 损失 = 0.33922225879505274\n",
            "epoch = 0, 验证集准确率 = 0.89\n",
            "  Batch    40  of    400.    Elapsed: 0:00:09.\n",
            "  Batch    80  of    400.    Elapsed: 0:00:18.\n",
            "  Batch   120  of    400.    Elapsed: 0:00:27.\n",
            "  Batch   160  of    400.    Elapsed: 0:00:37.\n",
            "  Batch   200  of    400.    Elapsed: 0:00:46.\n",
            "  Batch   240  of    400.    Elapsed: 0:00:55.\n",
            "  Batch   280  of    400.    Elapsed: 0:01:04.\n",
            "  Batch   320  of    400.    Elapsed: 0:01:13.\n",
            "  Batch   360  of    400.    Elapsed: 0:01:22.\n",
            "epoch = 1, 训练集准确率 = 0.93921875, 损失 = 0.1824243660841603\n",
            "epoch = 1, 验证集准确率 = 0.89875\n",
            "  Batch    40  of    400.    Elapsed: 0:00:09.\n",
            "  Batch    80  of    400.    Elapsed: 0:00:18.\n",
            "  Batch   120  of    400.    Elapsed: 0:00:27.\n",
            "  Batch   160  of    400.    Elapsed: 0:00:36.\n",
            "  Batch   200  of    400.    Elapsed: 0:00:46.\n",
            "  Batch   240  of    400.    Elapsed: 0:00:55.\n",
            "  Batch   280  of    400.    Elapsed: 0:01:04.\n",
            "  Batch   320  of    400.    Elapsed: 0:01:13.\n",
            "  Batch   360  of    400.    Elapsed: 0:01:22.\n",
            "epoch = 2, 训练集准确率 = 0.96828125, 损失 = 0.10654478932206984\n",
            "epoch = 2, 验证集准确率 = 0.9125\n",
            "  Batch    40  of    400.    Elapsed: 0:00:09.\n",
            "  Batch    80  of    400.    Elapsed: 0:00:18.\n",
            "  Batch   120  of    400.    Elapsed: 0:00:27.\n",
            "  Batch   160  of    400.    Elapsed: 0:00:36.\n",
            "  Batch   200  of    400.    Elapsed: 0:00:45.\n",
            "  Batch   240  of    400.    Elapsed: 0:00:55.\n",
            "  Batch   280  of    400.    Elapsed: 0:01:04.\n",
            "  Batch   320  of    400.    Elapsed: 0:01:13.\n",
            "  Batch   360  of    400.    Elapsed: 0:01:22.\n",
            "epoch = 3, 训练集准确率 = 0.9871875, 损失 = 0.052605474726151444\n",
            "epoch = 3, 验证集准确率 = 0.914375\n",
            "  Batch    40  of    400.    Elapsed: 0:00:09.\n",
            "  Batch    80  of    400.    Elapsed: 0:00:18.\n",
            "  Batch   120  of    400.    Elapsed: 0:00:27.\n",
            "  Batch   160  of    400.    Elapsed: 0:00:36.\n",
            "  Batch   200  of    400.    Elapsed: 0:00:45.\n",
            "  Batch   240  of    400.    Elapsed: 0:00:54.\n",
            "  Batch   280  of    400.    Elapsed: 0:01:03.\n",
            "  Batch   320  of    400.    Elapsed: 0:01:13.\n",
            "  Batch   360  of    400.    Elapsed: 0:01:22.\n",
            "epoch = 4, 训练集准确率 = 0.99421875, 损失 = 0.027806038043636364\n",
            "epoch = 4, 验证集准确率 = 0.914375\n"
          ],
          "name": "stdout"
        }
      ]
    },
    {
      "cell_type": "code",
      "metadata": {
        "colab": {
          "base_uri": "https://localhost:8080/",
          "height": 279
        },
        "id": "AX4Pj6-2Ba03",
        "outputId": "59f25f1f-deac-4292-a636-e0e53ad0d1ac"
      },
      "source": [
        "import matplotlib.pyplot as plt \n",
        "x=np.arange(0,5)\n",
        "plt.plot(x,train_list)\n",
        "\n",
        "l1=plt.plot(x,train_list,'r--',label='train_acc')\n",
        "l2=plt.plot(x,val_list,'g--',label='val_acc')\n",
        "l3=plt.plot(x,loss_list,'b--',label='loss')\n",
        "plt.plot(x,train_list,'ro-',x,val_list,'g+-',x,loss_list,'b^-')\n",
        "plt.xlabel('epoch')\n",
        "plt.legend()\n",
        "plt.show()\n"
      ],
      "id": "AX4Pj6-2Ba03",
      "execution_count": 46,
      "outputs": [
        {
          "output_type": "display_data",
          "data": {
            "image/png": "[encoded data removed]",
            "text/plain": [
              "<Figure size 432x288 with 1 Axes>"
            ]
          },
          "metadata": {
            "needs_background": "light"
          }
        }
      ]
    },
    {
      "cell_type": "code",
      "metadata": {
        "id": "OtSfWhFJFdDb"
      },
      "source": [
        "pred_list = []\n",
        "\n",
        "for tensori in val_logits:\n",
        "  pred_list.extend(torch.max(tensori, dim = 1)[1].cpu().numpy().tolist())\n",
        "\n",
        "# pred_list\n",
        "\n",
        "true_list = []\n",
        "\n",
        "for tensori in val_y:\n",
        "  true_list.extend(tensori.flatten().cpu().numpy().tolist())\n",
        "\n",
        "# true_list"
      ],
      "id": "OtSfWhFJFdDb",
      "execution_count": 47,
      "outputs": []
    },
    {
      "cell_type": "code",
      "metadata": {
        "colab": {
          "base_uri": "https://localhost:8080/"
        },
        "id": "UvgS4QAVF4tj",
        "outputId": "a8a97d98-3a16-407e-81c4-2c2f98e50fe2"
      },
      "source": [
        "acc_bert = metrics.accuracy_score(pred_list, true_list)\n",
        "f1_micro_bert = metrics.f1_score(pred_list, true_list, average = 'micro')\n",
        "f1_macro_bert = metrics.f1_score(pred_list, true_list, average = 'macro')\n",
        "kappa_bert = metrics.cohen_kappa_score(pred_list, true_list)\n",
        "\n",
        "print('BERT validation accuracy %s' % acc_bert)\n",
        "print('BERT validation F1 score %s' % f1_macro_bert)"
      ],
      "id": "UvgS4QAVF4tj",
      "execution_count": 48,
      "outputs": [
        {
          "output_type": "stream",
          "text": [
            "BERT validation accuracy 0.914375\n",
            "BERT validation F1 score 0.8990432556819502\n"
          ],
          "name": "stdout"
        }
      ]
    },
    {
      "cell_type": "code",
      "metadata": {
        "colab": {
          "base_uri": "https://localhost:8080/"
        },
        "id": "mf1D4iqWzZ_-",
        "outputId": "a0eade2e-b865-4c02-83d9-2d3b20c13a27"
      },
      "source": [
        "# probabilities\n",
        "\n",
        "import torch.nn.functional as F\n",
        "\n",
        "val_logits2 = torch.cat(val_logits, dim = 0)\n",
        "\n",
        "probs = F.softmax(val_logits2, dim = 1).cpu().detach().numpy()\n",
        "\n",
        "probs\n",
        "# You can't call .numpy() on a tensor if that tensor is part of the computation graph. \n",
        "# You first have to detach it from the graph and this will return a new tensor that shares the same underlying storage \n",
        "# but doesn't track gradients (requires_grad is False). Then you can call .numpy() safely. \n",
        "# So just replace tensor.numpy() with tensor.detach().numpy()."
      ],
      "id": "mf1D4iqWzZ_-",
      "execution_count": 49,
      "outputs": [
        {
          "output_type": "execute_result",
          "data": {
            "text/plain": [
              "array([[9.9941981e-01, 3.1788976e-04, 2.6234126e-04],\n",
              "       [3.5065407e-04, 9.9946851e-01, 1.8084525e-04],\n",
              "       [9.9951637e-01, 2.8987572e-04, 1.9377866e-04],\n",
              "       ...,\n",
              "       [9.9917680e-01, 5.6224869e-04, 2.6100044e-04],\n",
              "       [3.8195294e-04, 9.9944931e-01, 1.6876076e-04],\n",
              "       [9.3632267e-04, 9.9853849e-01, 5.2519236e-04]], dtype=float32)"
            ]
          },
          "metadata": {},
          "execution_count": 49
        }
      ]
    },
    {
      "cell_type": "markdown",
      "metadata": {
        "id": "6A8kGfCpWVXJ"
      },
      "source": [
        "### Prediction on test set"
      ],
      "id": "6A8kGfCpWVXJ"
    },
    {
      "cell_type": "code",
      "metadata": {
        "colab": {
          "base_uri": "https://localhost:8080/"
        },
        "id": "5yDjhShdWGQW",
        "outputId": "580bbf59-6055-4d17-9661-8e52c76d51ef"
      },
      "source": [
        "prediction(model,test_dataloader)"
      ],
      "id": "5yDjhShdWGQW",
      "execution_count": 50,
      "outputs": [
        {
          "output_type": "stream",
          "text": [
            "BERT test accuracy 0.9085\n",
            "BERT test F1 score 0.8817399560187017\n"
          ],
          "name": "stdout"
        }
      ]
    },
    {
      "cell_type": "markdown",
      "metadata": {
        "id": "oZV-raMeDDY9"
      },
      "source": [
        "## Evaluate on other data\n",
        "\n",
        "\n"
      ],
      "id": "oZV-raMeDDY9"
    },
    {
      "cell_type": "code",
      "metadata": {
        "id": "rqxf8kXhDK_P"
      },
      "source": [
        "report = pd.read_excel('/content/analyst_report.xlsx')"
      ],
      "id": "rqxf8kXhDK_P",
      "execution_count": 51,
      "outputs": []
    },
    {
      "cell_type": "code",
      "metadata": {
        "colab": {
          "base_uri": "https://localhost:8080/"
        },
        "id": "cs95ZwGYDVfB",
        "outputId": "d0baf3be-d559-4852-a2f8-0f64edeb9123"
      },
      "source": [
        "report['Final'].value_counts() "
      ],
      "id": "cs95ZwGYDVfB",
      "execution_count": 52,
      "outputs": [
        {
          "output_type": "execute_result",
          "data": {
            "text/plain": [
              "1     5590\n",
              "0     2916\n",
              "2     1543\n",
              "10    1083\n",
              "3      331\n",
              "43     220\n",
              "41     209\n",
              "42      72\n",
              "40      35\n",
              "4        1\n",
              "Name: Final, dtype: int64"
            ]
          },
          "metadata": {},
          "execution_count": 52
        }
      ]
    },
    {
      "cell_type": "code",
      "metadata": {
        "id": "-C4WPop0DV4y",
        "colab": {
          "base_uri": "https://localhost:8080/",
          "height": 423
        },
        "outputId": "a02b32af-e0b7-47f6-d66d-999acf5ddcbd"
      },
      "source": [
        "\n",
        "report = report[['Sentence','Final']].dropna(how = 'any')\n",
        "\n",
        "filt = report['Final'] <= 2\n",
        "report = report.loc[filt]\n",
        "\n",
        "report = report.drop_duplicates()\n",
        "\n",
        "report"
      ],
      "id": "-C4WPop0DV4y",
      "execution_count": 53,
      "outputs": [
        {
          "output_type": "execute_result",
          "data": {
            "text/html": [
              "<div>\n",
              "<style scoped>\n",
              "    .dataframe tbody tr th:only-of-type {\n",
              "        vertical-align: middle;\n",
              "    }\n",
              "\n",
              "    .dataframe tbody tr th {\n",
              "        vertical-align: top;\n",
              "    }\n",
              "\n",
              "    .dataframe thead th {\n",
              "        text-align: right;\n",
              "    }\n",
              "</style>\n",
              "<table border=\"1\" class=\"dataframe\">\n",
              "  <thead>\n",
              "    <tr style=\"text-align: right;\">\n",
              "      <th></th>\n",
              "      <th>Sentence</th>\n",
              "      <th>Final</th>\n",
              "    </tr>\n",
              "  </thead>\n",
              "  <tbody>\n",
              "    <tr>\n",
              "      <th>0</th>\n",
              "      <td>因2Q收入低于预期，下调19/20年收入预测5.4%/7.1%至56.8/61.2亿元，因成...</td>\n",
              "      <td>2</td>\n",
              "    </tr>\n",
              "    <tr>\n",
              "      <th>2</th>\n",
              "      <td>下调A/H股目标价46.4%/52%至7.5元/6.5港元。</td>\n",
              "      <td>0</td>\n",
              "    </tr>\n",
              "    <tr>\n",
              "      <th>3</th>\n",
              "      <td>公司Q3继续控制普五发货节奏，批价保持在820元左右。</td>\n",
              "      <td>0</td>\n",
              "    </tr>\n",
              "    <tr>\n",
              "      <th>4</th>\n",
              "      <td>船体可以装载长50米、高4.85米、宽8米、重量巨大的特种车辆。</td>\n",
              "      <td>0</td>\n",
              "    </tr>\n",
              "    <tr>\n",
              "      <th>5</th>\n",
              "      <td>房地产业务毛利率提升公司上半年房地产业务实现销售收入5.03亿元，同比去年下降-15.46%。</td>\n",
              "      <td>2</td>\n",
              "    </tr>\n",
              "    <tr>\n",
              "      <th>...</th>\n",
              "      <td>...</td>\n",
              "      <td>...</td>\n",
              "    </tr>\n",
              "    <tr>\n",
              "      <th>11994</th>\n",
              "      <td>今年上半年公司天然气与管道业务实现经营收益139.34亿元，同比增长21.9%。</td>\n",
              "      <td>1</td>\n",
              "    </tr>\n",
              "    <tr>\n",
              "      <th>11995</th>\n",
              "      <td>国家管网集团“十四五期间”初步规划新建油气管道超过2.5万公里，LNG接收站、储气库、海上平...</td>\n",
              "      <td>1</td>\n",
              "    </tr>\n",
              "    <tr>\n",
              "      <th>11996</th>\n",
              "      <td>行业需求不及预期、市场竞争风险加剧、技术研发不及预期。</td>\n",
              "      <td>2</td>\n",
              "    </tr>\n",
              "    <tr>\n",
              "      <th>11997</th>\n",
              "      <td>业务主要分布在华东地区，全国布局雏形初现。</td>\n",
              "      <td>0</td>\n",
              "    </tr>\n",
              "    <tr>\n",
              "      <th>11998</th>\n",
              "      <td>展望后期，硬软件及汽车后市场有望逐步启动。</td>\n",
              "      <td>0</td>\n",
              "    </tr>\n",
              "  </tbody>\n",
              "</table>\n",
              "<p>10028 rows × 2 columns</p>\n",
              "</div>"
            ],
            "text/plain": [
              "                                                Sentence  Final\n",
              "0      因2Q收入低于预期，下调19/20年收入预测5.4%/7.1%至56.8/61.2亿元，因成...      2\n",
              "2                         下调A/H股目标价46.4%/52%至7.5元/6.5港元。      0\n",
              "3                            公司Q3继续控制普五发货节奏，批价保持在820元左右。      0\n",
              "4                       船体可以装载长50米、高4.85米、宽8米、重量巨大的特种车辆。      0\n",
              "5        房地产业务毛利率提升公司上半年房地产业务实现销售收入5.03亿元，同比去年下降-15.46%。      2\n",
              "...                                                  ...    ...\n",
              "11994           今年上半年公司天然气与管道业务实现经营收益139.34亿元，同比增长21.9%。      1\n",
              "11995  国家管网集团“十四五期间”初步规划新建油气管道超过2.5万公里，LNG接收站、储气库、海上平...      1\n",
              "11996                        行业需求不及预期、市场竞争风险加剧、技术研发不及预期。      2\n",
              "11997                              业务主要分布在华东地区，全国布局雏形初现。      0\n",
              "11998                              展望后期，硬软件及汽车后市场有望逐步启动。      0\n",
              "\n",
              "[10028 rows x 2 columns]"
            ]
          },
          "metadata": {},
          "execution_count": 53
        }
      ]
    },
    {
      "cell_type": "code",
      "metadata": {
        "colab": {
          "base_uri": "https://localhost:8080/"
        },
        "id": "ZauKpIDOEy6z",
        "outputId": "9b0f2cf2-aad0-40ed-be1a-bab605f5ed7a"
      },
      "source": [
        "report['Final'].value_counts() "
      ],
      "id": "ZauKpIDOEy6z",
      "execution_count": 54,
      "outputs": [
        {
          "output_type": "execute_result",
          "data": {
            "text/plain": [
              "1    5581\n",
              "0    2907\n",
              "2    1540\n",
              "Name: Final, dtype: int64"
            ]
          },
          "metadata": {},
          "execution_count": 54
        }
      ]
    },
    {
      "cell_type": "markdown",
      "metadata": {
        "id": "pmNEHwXncDY-"
      },
      "source": [
        "### Bert"
      ],
      "id": "pmNEHwXncDY-"
    },
    {
      "cell_type": "code",
      "metadata": {
        "id": "0jomcpJbXM2X"
      },
      "source": [
        "def data_prepration(data):\n",
        "  # list\n",
        "  X = data['Sentence'].tolist() # [modify]\n",
        "\n",
        "  # array\n",
        "  label_list = []\n",
        "  for i in data['Final']:\n",
        "      label_list.append([i])\n",
        "  y = np.array(label_list) \n",
        "  total_targets = torch.tensor(y)\n",
        "\n",
        "  input_ids = [convert_text_to_token(tokenizer, sen) for sen in X]\n",
        "  input_tokens = torch.tensor(input_ids)\n",
        "\n",
        "\n",
        "  atten_masks = attention_masks(input_ids)\n",
        "  attention_tokens = torch.tensor(atten_masks)\n",
        "  print(attention_tokens.shape)      \n",
        "  print(attention_tokens) \n",
        "\n",
        "  test_data = TensorDataset(input_tokens, attention_tokens, total_targets)\n",
        "  test_sampler = RandomSampler(test_data)\n",
        "  test_dataloader = DataLoader(test_data, sampler = test_sampler, batch_size = batch_size)\n",
        "\n",
        "  return test_dataloader\n"
      ],
      "id": "0jomcpJbXM2X",
      "execution_count": 55,
      "outputs": []
    },
    {
      "cell_type": "code",
      "metadata": {
        "colab": {
          "base_uri": "https://localhost:8080/"
        },
        "id": "AKu2Jq6qZB1V",
        "outputId": "19bcd095-d315-4be0-bf5e-3bddb881b915"
      },
      "source": [
        "report_dataloader = data_prepration(report)"
      ],
      "id": "AKu2Jq6qZB1V",
      "execution_count": 56,
      "outputs": [
        {
          "output_type": "stream",
          "text": [
            "torch.Size([10028, 132])\n",
            "tensor([[1., 1., 1.,  ..., 0., 0., 0.],\n",
            "        [1., 1., 1.,  ..., 0., 0., 0.],\n",
            "        [1., 1., 1.,  ..., 0., 0., 0.],\n",
            "        ...,\n",
            "        [1., 1., 1.,  ..., 0., 0., 0.],\n",
            "        [1., 1., 1.,  ..., 0., 0., 0.],\n",
            "        [1., 1., 1.,  ..., 0., 0., 0.]])\n"
          ],
          "name": "stdout"
        }
      ]
    },
    {
      "cell_type": "code",
      "metadata": {
        "id": "9D-dfqSsZXG0"
      },
      "source": [
        "prediction(model,report_dataloader)"
      ],
      "id": "9D-dfqSsZXG0",
      "execution_count": null,
      "outputs": []
    },
    {
      "cell_type": "code",
      "metadata": {
        "id": "guiCRfcOkuTN"
      },
      "source": [
        "test_acc, test_logits, test_y = [],[],[]\n",
        "output_list = []\n",
        "model.eval()       \n",
        "\n",
        "with torch.no_grad():\n",
        "  for batch in report_dataloader: \n",
        "      b_input_ids, b_input_mask, b_labels = batch[0].long().to(device), batch[1].long().to(device), batch[2].long().to(device)\n",
        "\n",
        "      test_y.append(b_labels)\n",
        "\n",
        "      output = model(b_input_ids, token_type_ids=None, attention_mask=b_input_mask)\n",
        "\n",
        "      test_logits.append(output[0])\n",
        "      # output[0]: logits\n",
        "\n",
        "      acc = binary_acc(output[0], b_labels)\n",
        "      test_acc.append(acc)\n",
        "\n",
        "  avg_test_acc = np.array(test_acc).mean()\n",
        "\n",
        "  pred_list_test = []\n",
        "\n",
        "  for tensori in test_logits:\n",
        "    pred_list_test.extend(torch.max(tensori, dim = 1)[1].cpu().numpy().tolist())\n",
        "\n",
        "  # pred_list\n",
        "\n",
        "  true_list_test = []\n",
        "\n",
        "  for tensori in test_y:\n",
        "    true_list_test.extend(tensori.flatten().cpu().numpy().tolist())\n",
        "  \n",
        "  test_acc_bert = metrics.accuracy_score(pred_list_test, true_list_test)\n",
        "  test_f1_micro_bert = metrics.f1_score(pred_list_test, true_list_test, average = 'micro')\n",
        "  test_f1_macro_bert = metrics.f1_score(pred_list_test, true_list_test, average = 'macro')\n",
        "  test_kappa_bert = metrics.cohen_kappa_score(pred_list_test, true_list_test)\n",
        "\n",
        "  print('BERT test accuracy %s' % test_acc_bert)\n",
        "  print('BERT test F1 score %s' % test_f1_macro_bert)"
      ],
      "id": "guiCRfcOkuTN",
      "execution_count": null,
      "outputs": []
    },
    {
      "cell_type": "code",
      "metadata": {
        "id": "Ejk4exromuKc"
      },
      "source": [
        "bt_pred_list_test = Counter(pred_list_test)\n",
        "print(bt_pred_list_test)"
      ],
      "id": "Ejk4exromuKc",
      "execution_count": null,
      "outputs": []
    },
    {
      "cell_type": "markdown",
      "metadata": {
        "id": "m3nUeR6Zbvwe"
      },
      "source": [
        "### Logistic Regression"
      ],
      "id": "m3nUeR6Zbvwe"
    },
    {
      "cell_type": "code",
      "metadata": {
        "id": "kor__T2PgJsV"
      },
      "source": [
        "report_y_pred = lr_best.predict(tfidf_report)\n",
        "\n",
        "# accuracy: (number of correct predictions)/(total predictions)\n",
        "report_acc_logit = metrics.accuracy_score(y_report, report_y_pred)\n",
        "print('TF-IDF LR validation accuracy %s' % report_acc_logit)\n",
        "\n",
        "f1_micro_logit = metrics.f1_score(y_report, report_y_pred,average = \"micro\")\n",
        "f1_macro_logit = metrics.f1_score(y_report, report_y_pred,average = \"macro\")\n",
        "print('TF-IDF LR validation F1_score %s' % f1_macro_logit)\n",
        "print('\\n')"
      ],
      "id": "kor__T2PgJsV",
      "execution_count": null,
      "outputs": []
    },
    {
      "cell_type": "code",
      "metadata": {
        "id": "tk2WoMCykSRu"
      },
      "source": [
        "lr_pred_count = Counter(report_y_pred)\n",
        "lr_pred_count"
      ],
      "id": "tk2WoMCykSRu",
      "execution_count": null,
      "outputs": []
    },
    {
      "cell_type": "markdown",
      "metadata": {
        "id": "Ntuz9sZQbzLm"
      },
      "source": [
        "### Naive Bayes Classifier"
      ],
      "id": "Ntuz9sZQbzLm"
    },
    {
      "cell_type": "code",
      "metadata": {
        "colab": {
          "base_uri": "https://localhost:8080/"
        },
        "id": "RLAj47X2b3oU",
        "outputId": "c492a8e4-373d-44bb-b471-e89111680e98"
      },
      "source": [
        "test_probs = nb_model.predict_proba(tfidf_report)\n",
        "y_pred = []\n",
        "for i in test_probs:\n",
        "  y_pred.append(np.argmax(i))\n",
        "\n",
        "# Evaluate the classifier\n",
        "acc_nb = metrics.accuracy_score(y_pred, y_report)\n",
        "f1_micro_nb = metrics.f1_score(y_pred, y_report, average = 'micro')\n",
        "f1_macro_nb = metrics.f1_score(y_pred, y_report, average = 'macro')\n",
        "kappa_nb = metrics.cohen_kappa_score(y_pred, y_report)\n",
        "\n",
        "\n",
        "print(f'accuracy: {acc_nb*100:.2f}%')\n",
        "print(f'f1-score: {f1_macro_nb*100:.2f}%')"
      ],
      "id": "RLAj47X2b3oU",
      "execution_count": 62,
      "outputs": [
        {
          "output_type": "stream",
          "text": [
            "accuracy: 66.84%\n",
            "f1-score: 62.52%\n"
          ],
          "name": "stdout"
        }
      ]
    },
    {
      "cell_type": "code",
      "metadata": {
        "id": "y-lVpb7Ce2DN"
      },
      "source": [
        "from collections import Counter\n",
        "pred_count = Counter(y_pred)\n",
        "true_count = Counter(y_report)\n",
        "print(pred_count)\n",
        "print(true_count) "
      ],
      "id": "y-lVpb7Ce2DN",
      "execution_count": null,
      "outputs": []
    },
    {
      "cell_type": "markdown",
      "metadata": {
        "id": "S90rqzSRyN0w"
      },
      "source": [
        "## Save the model"
      ],
      "id": "S90rqzSRyN0w"
    },
    {
      "cell_type": "code",
      "metadata": {
        "id": "ZurgrnzA3isz"
      },
      "source": [
        "# save the whole model\n",
        "torch.save(model,'/content/bert.pth.tar')\n",
        "# the model can be downloaded at: https://drive.google.com/file/d/1_lzotgExsv2AjhktxnJsJEP6KdhKc6IE/view?usp=sharing"
      ],
      "id": "ZurgrnzA3isz",
      "execution_count": 78,
      "outputs": []
    },
    {
      "cell_type": "code",
      "metadata": {
        "id": "N5auwLnJ54hT"
      },
      "source": [
        ""
      ],
      "id": "N5auwLnJ54hT",
      "execution_count": null,
      "outputs": []
    }
  ]
}